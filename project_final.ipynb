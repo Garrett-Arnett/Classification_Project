{
 "cells": [
  {
   "cell_type": "markdown",
   "id": "16462710",
   "metadata": {},
   "source": [
    "# Telco™ Project"
   ]
  },
  {
   "cell_type": "markdown",
   "id": "73f1aa32",
   "metadata": {},
   "source": [
    "- Garrett Arnett"
   ]
  },
  {
   "cell_type": "markdown",
   "id": "98bed284",
   "metadata": {},
   "source": [
    "Goals:\n",
    "\n",
    "    Find drivers of customer churn\n",
    "    Accurately predict customer churn at Telco™\n"
   ]
  },
  {
   "cell_type": "markdown",
   "id": "f04cf780",
   "metadata": {},
   "source": [
    "To Do:\n",
    "\n",
    "    Find 2 or more drivers of churn using statistical tests\n",
    "    Establish baseline accuracy\n",
    "    Outperform baseline accuracy using a classification model\n",
    "    Document insights from each stage of the data science pipeline"
   ]
  },
  {
   "cell_type": "markdown",
   "id": "720171f3",
   "metadata": {},
   "source": [
    "Findings:\n",
    "\n",
    "   - In the search for significant factors of chrun within the Telco dataset, I found that fiber optic customers are churing at higher rates than any other internet service within the company.\n",
    "\n",
    "   - Through careful analysis I found that these customers make up roughly 44% of all customers within Telco. This needs to be addressed.\n",
    "\n",
    "   - Also I found that the mjaority of customers do not have online security in their Telco plan. While looking deeper I found that customers without internet security seem to chrun at higher rates."
   ]
  },
  {
   "cell_type": "markdown",
   "id": "993fa187",
   "metadata": {},
   "source": [
    "# Imports"
   ]
  },
  {
   "cell_type": "code",
   "execution_count": 1,
   "id": "9669fab5",
   "metadata": {},
   "outputs": [],
   "source": [
    "import acquire\n",
    "import prepare\n",
    "import explore\n",
    "import pandas as pd\n",
    "import numpy as np\n",
    "import seaborn as sns\n",
    "\n",
    "import matplotlib.pyplot as plt\n",
    "\n",
    "from pandas import DataFrame\n",
    "from acquire import acquire_telco_data\n",
    "from prepare import train_validate_test_split\n",
    "from prepare import prep_telco_data\n",
    "from prepare import data_target_split\n",
    "from scipy import stats\n",
    "\n",
    "from sklearn.preprocessing import LabelEncoder\n",
    "from sklearn.preprocessing import LabelEncoder\n",
    "from sklearn.model_selection import train_test_split\n",
    "from sklearn.linear_model import LogisticRegression\n",
    "from sklearn.metrics import classification_report\n",
    "from sklearn.metrics import confusion_matrix\n",
    "from sklearn.impute import SimpleImputer"
   ]
  },
  {
   "cell_type": "markdown",
   "id": "c1d55dde",
   "metadata": {},
   "source": [
    "# Acquire"
   ]
  },
  {
   "cell_type": "markdown",
   "id": "1cf43137",
   "metadata": {},
   "source": [
    "- Create a fucntion that will acquire telco.csv\n",
    "- Take a look at its values (info, describe, and head)\n",
    "- Plot some histograms showing the distributions of variables of intrest"
   ]
  },
  {
   "cell_type": "code",
   "execution_count": 2,
   "id": "98681131",
   "metadata": {},
   "outputs": [],
   "source": [
    "df = acquire_telco_data"
   ]
  },
  {
   "cell_type": "code",
   "execution_count": 3,
   "id": "e067fa31",
   "metadata": {},
   "outputs": [],
   "source": [
    "df = acquire_telco_data(df)"
   ]
  },
  {
   "cell_type": "code",
   "execution_count": 4,
   "id": "a9a9e3d3",
   "metadata": {},
   "outputs": [
    {
     "data": {
      "text/html": [
       "<div>\n",
       "<style scoped>\n",
       "    .dataframe tbody tr th:only-of-type {\n",
       "        vertical-align: middle;\n",
       "    }\n",
       "\n",
       "    .dataframe tbody tr th {\n",
       "        vertical-align: top;\n",
       "    }\n",
       "\n",
       "    .dataframe thead th {\n",
       "        text-align: right;\n",
       "    }\n",
       "</style>\n",
       "<table border=\"1\" class=\"dataframe\">\n",
       "  <thead>\n",
       "    <tr style=\"text-align: right;\">\n",
       "      <th></th>\n",
       "      <th>customerID</th>\n",
       "      <th>gender</th>\n",
       "      <th>SeniorCitizen</th>\n",
       "      <th>Partner</th>\n",
       "      <th>Dependents</th>\n",
       "      <th>tenure</th>\n",
       "      <th>PhoneService</th>\n",
       "      <th>MultipleLines</th>\n",
       "      <th>InternetService</th>\n",
       "      <th>OnlineSecurity</th>\n",
       "      <th>...</th>\n",
       "      <th>DeviceProtection</th>\n",
       "      <th>TechSupport</th>\n",
       "      <th>StreamingTV</th>\n",
       "      <th>StreamingMovies</th>\n",
       "      <th>Contract</th>\n",
       "      <th>PaperlessBilling</th>\n",
       "      <th>PaymentMethod</th>\n",
       "      <th>MonthlyCharges</th>\n",
       "      <th>TotalCharges</th>\n",
       "      <th>Churn</th>\n",
       "    </tr>\n",
       "  </thead>\n",
       "  <tbody>\n",
       "    <tr>\n",
       "      <th>0</th>\n",
       "      <td>7590-VHVEG</td>\n",
       "      <td>Female</td>\n",
       "      <td>0</td>\n",
       "      <td>Yes</td>\n",
       "      <td>No</td>\n",
       "      <td>1</td>\n",
       "      <td>No</td>\n",
       "      <td>No phone service</td>\n",
       "      <td>DSL</td>\n",
       "      <td>No</td>\n",
       "      <td>...</td>\n",
       "      <td>No</td>\n",
       "      <td>No</td>\n",
       "      <td>No</td>\n",
       "      <td>No</td>\n",
       "      <td>Month-to-month</td>\n",
       "      <td>Yes</td>\n",
       "      <td>Electronic check</td>\n",
       "      <td>29.85</td>\n",
       "      <td>29.85</td>\n",
       "      <td>No</td>\n",
       "    </tr>\n",
       "    <tr>\n",
       "      <th>1</th>\n",
       "      <td>5575-GNVDE</td>\n",
       "      <td>Male</td>\n",
       "      <td>0</td>\n",
       "      <td>No</td>\n",
       "      <td>No</td>\n",
       "      <td>34</td>\n",
       "      <td>Yes</td>\n",
       "      <td>No</td>\n",
       "      <td>DSL</td>\n",
       "      <td>Yes</td>\n",
       "      <td>...</td>\n",
       "      <td>Yes</td>\n",
       "      <td>No</td>\n",
       "      <td>No</td>\n",
       "      <td>No</td>\n",
       "      <td>One year</td>\n",
       "      <td>No</td>\n",
       "      <td>Mailed check</td>\n",
       "      <td>56.95</td>\n",
       "      <td>1889.50</td>\n",
       "      <td>No</td>\n",
       "    </tr>\n",
       "    <tr>\n",
       "      <th>2</th>\n",
       "      <td>3668-QPYBK</td>\n",
       "      <td>Male</td>\n",
       "      <td>0</td>\n",
       "      <td>No</td>\n",
       "      <td>No</td>\n",
       "      <td>2</td>\n",
       "      <td>Yes</td>\n",
       "      <td>No</td>\n",
       "      <td>DSL</td>\n",
       "      <td>Yes</td>\n",
       "      <td>...</td>\n",
       "      <td>No</td>\n",
       "      <td>No</td>\n",
       "      <td>No</td>\n",
       "      <td>No</td>\n",
       "      <td>Month-to-month</td>\n",
       "      <td>Yes</td>\n",
       "      <td>Mailed check</td>\n",
       "      <td>53.85</td>\n",
       "      <td>108.15</td>\n",
       "      <td>Yes</td>\n",
       "    </tr>\n",
       "    <tr>\n",
       "      <th>3</th>\n",
       "      <td>7795-CFOCW</td>\n",
       "      <td>Male</td>\n",
       "      <td>0</td>\n",
       "      <td>No</td>\n",
       "      <td>No</td>\n",
       "      <td>45</td>\n",
       "      <td>No</td>\n",
       "      <td>No phone service</td>\n",
       "      <td>DSL</td>\n",
       "      <td>Yes</td>\n",
       "      <td>...</td>\n",
       "      <td>Yes</td>\n",
       "      <td>Yes</td>\n",
       "      <td>No</td>\n",
       "      <td>No</td>\n",
       "      <td>One year</td>\n",
       "      <td>No</td>\n",
       "      <td>Bank transfer (automatic)</td>\n",
       "      <td>42.30</td>\n",
       "      <td>1840.75</td>\n",
       "      <td>No</td>\n",
       "    </tr>\n",
       "    <tr>\n",
       "      <th>4</th>\n",
       "      <td>9237-HQITU</td>\n",
       "      <td>Female</td>\n",
       "      <td>0</td>\n",
       "      <td>No</td>\n",
       "      <td>No</td>\n",
       "      <td>2</td>\n",
       "      <td>Yes</td>\n",
       "      <td>No</td>\n",
       "      <td>Fiber optic</td>\n",
       "      <td>No</td>\n",
       "      <td>...</td>\n",
       "      <td>No</td>\n",
       "      <td>No</td>\n",
       "      <td>No</td>\n",
       "      <td>No</td>\n",
       "      <td>Month-to-month</td>\n",
       "      <td>Yes</td>\n",
       "      <td>Electronic check</td>\n",
       "      <td>70.70</td>\n",
       "      <td>151.65</td>\n",
       "      <td>Yes</td>\n",
       "    </tr>\n",
       "  </tbody>\n",
       "</table>\n",
       "<p>5 rows × 21 columns</p>\n",
       "</div>"
      ],
      "text/plain": [
       "   customerID  gender  SeniorCitizen Partner Dependents  tenure PhoneService  \\\n",
       "0  7590-VHVEG  Female              0     Yes         No       1           No   \n",
       "1  5575-GNVDE    Male              0      No         No      34          Yes   \n",
       "2  3668-QPYBK    Male              0      No         No       2          Yes   \n",
       "3  7795-CFOCW    Male              0      No         No      45           No   \n",
       "4  9237-HQITU  Female              0      No         No       2          Yes   \n",
       "\n",
       "      MultipleLines InternetService OnlineSecurity  ... DeviceProtection  \\\n",
       "0  No phone service             DSL             No  ...               No   \n",
       "1                No             DSL            Yes  ...              Yes   \n",
       "2                No             DSL            Yes  ...               No   \n",
       "3  No phone service             DSL            Yes  ...              Yes   \n",
       "4                No     Fiber optic             No  ...               No   \n",
       "\n",
       "  TechSupport StreamingTV StreamingMovies        Contract PaperlessBilling  \\\n",
       "0          No          No              No  Month-to-month              Yes   \n",
       "1          No          No              No        One year               No   \n",
       "2          No          No              No  Month-to-month              Yes   \n",
       "3         Yes          No              No        One year               No   \n",
       "4          No          No              No  Month-to-month              Yes   \n",
       "\n",
       "               PaymentMethod MonthlyCharges  TotalCharges  Churn  \n",
       "0           Electronic check          29.85         29.85     No  \n",
       "1               Mailed check          56.95       1889.50     No  \n",
       "2               Mailed check          53.85        108.15    Yes  \n",
       "3  Bank transfer (automatic)          42.30       1840.75     No  \n",
       "4           Electronic check          70.70        151.65    Yes  \n",
       "\n",
       "[5 rows x 21 columns]"
      ]
     },
     "execution_count": 4,
     "metadata": {},
     "output_type": "execute_result"
    }
   ],
   "source": [
    "df.head()"
   ]
  },
  {
   "cell_type": "markdown",
   "id": "b9b6b3db",
   "metadata": {},
   "source": [
    "### Shape (rows x columns)"
   ]
  },
  {
   "cell_type": "code",
   "execution_count": 5,
   "id": "594e501b",
   "metadata": {},
   "outputs": [
    {
     "data": {
      "text/plain": [
       "(7043, 21)"
      ]
     },
     "execution_count": 5,
     "metadata": {},
     "output_type": "execute_result"
    }
   ],
   "source": [
    "df.shape"
   ]
  },
  {
   "cell_type": "markdown",
   "id": "69c6cc4a",
   "metadata": {},
   "source": [
    "### Values"
   ]
  },
  {
   "cell_type": "code",
   "execution_count": 6,
   "id": "25a37643",
   "metadata": {},
   "outputs": [
    {
     "name": "stdout",
     "output_type": "stream",
     "text": [
      "<class 'pandas.core.frame.DataFrame'>\n",
      "RangeIndex: 7043 entries, 0 to 7042\n",
      "Data columns (total 21 columns):\n",
      " #   Column            Non-Null Count  Dtype  \n",
      "---  ------            --------------  -----  \n",
      " 0   customerID        7043 non-null   object \n",
      " 1   gender            7043 non-null   object \n",
      " 2   SeniorCitizen     7043 non-null   int64  \n",
      " 3   Partner           7043 non-null   object \n",
      " 4   Dependents        7043 non-null   object \n",
      " 5   tenure            7043 non-null   int64  \n",
      " 6   PhoneService      7043 non-null   object \n",
      " 7   MultipleLines     7043 non-null   object \n",
      " 8   InternetService   7043 non-null   object \n",
      " 9   OnlineSecurity    7043 non-null   object \n",
      " 10  OnlineBackup      7043 non-null   object \n",
      " 11  DeviceProtection  7043 non-null   object \n",
      " 12  TechSupport       7043 non-null   object \n",
      " 13  StreamingTV       7043 non-null   object \n",
      " 14  StreamingMovies   7043 non-null   object \n",
      " 15  Contract          7043 non-null   object \n",
      " 16  PaperlessBilling  7043 non-null   object \n",
      " 17  PaymentMethod     7043 non-null   object \n",
      " 18  MonthlyCharges    7043 non-null   float64\n",
      " 19  TotalCharges      7032 non-null   float64\n",
      " 20  Churn             7043 non-null   object \n",
      "dtypes: float64(2), int64(2), object(17)\n",
      "memory usage: 1.1+ MB\n"
     ]
    }
   ],
   "source": [
    " df.info()"
   ]
  },
  {
   "cell_type": "code",
   "execution_count": 7,
   "id": "9bf27801",
   "metadata": {},
   "outputs": [
    {
     "data": {
      "text/plain": [
       "customerID          7043\n",
       "gender                 2\n",
       "SeniorCitizen          2\n",
       "Partner                2\n",
       "Dependents             2\n",
       "tenure                73\n",
       "PhoneService           2\n",
       "MultipleLines          3\n",
       "InternetService        3\n",
       "OnlineSecurity         3\n",
       "OnlineBackup           3\n",
       "DeviceProtection       3\n",
       "TechSupport            3\n",
       "StreamingTV            3\n",
       "StreamingMovies        3\n",
       "Contract               3\n",
       "PaperlessBilling       2\n",
       "PaymentMethod          4\n",
       "MonthlyCharges      1585\n",
       "TotalCharges        6530\n",
       "Churn                  2\n",
       "dtype: int64"
      ]
     },
     "execution_count": 7,
     "metadata": {},
     "output_type": "execute_result"
    }
   ],
   "source": [
    "df.nunique()"
   ]
  },
  {
   "cell_type": "code",
   "execution_count": 8,
   "id": "3efd7d59",
   "metadata": {},
   "outputs": [
    {
     "data": {
      "text/plain": [
       "Fiber optic    3096\n",
       "DSL            2421\n",
       "No             1526\n",
       "Name: InternetService, dtype: int64"
      ]
     },
     "execution_count": 8,
     "metadata": {},
     "output_type": "execute_result"
    }
   ],
   "source": [
    "df.InternetService.value_counts()"
   ]
  },
  {
   "cell_type": "code",
   "execution_count": 9,
   "id": "422db48f",
   "metadata": {
    "scrolled": false
   },
   "outputs": [
    {
     "name": "stdout",
     "output_type": "stream",
     "text": [
      "\n",
      "customerID\n",
      "7590-VHVEG    1\n",
      "3791-LGQCY    1\n",
      "6008-NAIXK    1\n",
      "5956-YHHRX    1\n",
      "5365-LLFYV    1\n",
      "             ..\n",
      "9796-MVYXX    1\n",
      "2637-FKFSY    1\n",
      "1552-AAGRX    1\n",
      "4304-TSPVK    1\n",
      "3186-AJIEK    1\n",
      "Name: customerID, Length: 7043, dtype: int64\n",
      "\n",
      "gender\n",
      "Male      3555\n",
      "Female    3488\n",
      "Name: gender, dtype: int64\n",
      "\n",
      "SeniorCitizen\n",
      "0    5901\n",
      "1    1142\n",
      "Name: SeniorCitizen, dtype: int64\n",
      "\n",
      "Partner\n",
      "No     3641\n",
      "Yes    3402\n",
      "Name: Partner, dtype: int64\n",
      "\n",
      "Dependents\n",
      "No     4933\n",
      "Yes    2110\n",
      "Name: Dependents, dtype: int64\n",
      "\n",
      "tenure\n",
      "1     613\n",
      "72    362\n",
      "2     238\n",
      "3     200\n",
      "4     176\n",
      "     ... \n",
      "28     57\n",
      "39     56\n",
      "44     51\n",
      "36     50\n",
      "0      11\n",
      "Name: tenure, Length: 73, dtype: int64\n",
      "\n",
      "PhoneService\n",
      "Yes    6361\n",
      "No      682\n",
      "Name: PhoneService, dtype: int64\n",
      "\n",
      "MultipleLines\n",
      "No                  3390\n",
      "Yes                 2971\n",
      "No phone service     682\n",
      "Name: MultipleLines, dtype: int64\n",
      "\n",
      "InternetService\n",
      "Fiber optic    3096\n",
      "DSL            2421\n",
      "No             1526\n",
      "Name: InternetService, dtype: int64\n",
      "\n",
      "OnlineSecurity\n",
      "No                     3498\n",
      "Yes                    2019\n",
      "No internet service    1526\n",
      "Name: OnlineSecurity, dtype: int64\n",
      "\n",
      "OnlineBackup\n",
      "No                     3088\n",
      "Yes                    2429\n",
      "No internet service    1526\n",
      "Name: OnlineBackup, dtype: int64\n",
      "\n",
      "DeviceProtection\n",
      "No                     3095\n",
      "Yes                    2422\n",
      "No internet service    1526\n",
      "Name: DeviceProtection, dtype: int64\n",
      "\n",
      "TechSupport\n",
      "No                     3473\n",
      "Yes                    2044\n",
      "No internet service    1526\n",
      "Name: TechSupport, dtype: int64\n",
      "\n",
      "StreamingTV\n",
      "No                     2810\n",
      "Yes                    2707\n",
      "No internet service    1526\n",
      "Name: StreamingTV, dtype: int64\n",
      "\n",
      "StreamingMovies\n",
      "No                     2785\n",
      "Yes                    2732\n",
      "No internet service    1526\n",
      "Name: StreamingMovies, dtype: int64\n",
      "\n",
      "Contract\n",
      "Month-to-month    3875\n",
      "Two year          1695\n",
      "One year          1473\n",
      "Name: Contract, dtype: int64\n",
      "\n",
      "PaperlessBilling\n",
      "Yes    4171\n",
      "No     2872\n",
      "Name: PaperlessBilling, dtype: int64\n",
      "\n",
      "PaymentMethod\n",
      "Electronic check             2365\n",
      "Mailed check                 1612\n",
      "Bank transfer (automatic)    1544\n",
      "Credit card (automatic)      1522\n",
      "Name: PaymentMethod, dtype: int64\n",
      "\n",
      "MonthlyCharges\n",
      "20.05     61\n",
      "19.85     45\n",
      "19.95     44\n",
      "19.90     44\n",
      "20.00     43\n",
      "          ..\n",
      "23.65      1\n",
      "114.70     1\n",
      "43.65      1\n",
      "87.80      1\n",
      "78.70      1\n",
      "Name: MonthlyCharges, Length: 1585, dtype: int64\n",
      "\n",
      "TotalCharges\n",
      "20.20      11\n",
      "19.75       9\n",
      "20.05       8\n",
      "19.90       8\n",
      "19.65       8\n",
      "           ..\n",
      "6849.40     1\n",
      "692.35      1\n",
      "130.15      1\n",
      "3211.90     1\n",
      "6844.50     1\n",
      "Name: TotalCharges, Length: 6530, dtype: int64\n",
      "\n",
      "Churn\n",
      "No     5174\n",
      "Yes    1869\n",
      "Name: Churn, dtype: int64\n"
     ]
    }
   ],
   "source": [
    "for column in df.columns:\n",
    "    print(\"\\n\" + column)\n",
    "    print(df[column].value_counts())"
   ]
  },
  {
   "cell_type": "code",
   "execution_count": 10,
   "id": "8b67c772",
   "metadata": {},
   "outputs": [
    {
     "data": {
      "text/html": [
       "<div>\n",
       "<style scoped>\n",
       "    .dataframe tbody tr th:only-of-type {\n",
       "        vertical-align: middle;\n",
       "    }\n",
       "\n",
       "    .dataframe tbody tr th {\n",
       "        vertical-align: top;\n",
       "    }\n",
       "\n",
       "    .dataframe thead th {\n",
       "        text-align: right;\n",
       "    }\n",
       "</style>\n",
       "<table border=\"1\" class=\"dataframe\">\n",
       "  <thead>\n",
       "    <tr style=\"text-align: right;\">\n",
       "      <th></th>\n",
       "      <th>SeniorCitizen</th>\n",
       "      <th>tenure</th>\n",
       "      <th>MonthlyCharges</th>\n",
       "      <th>TotalCharges</th>\n",
       "    </tr>\n",
       "  </thead>\n",
       "  <tbody>\n",
       "    <tr>\n",
       "      <th>count</th>\n",
       "      <td>7043.000000</td>\n",
       "      <td>7043.000000</td>\n",
       "      <td>7043.000000</td>\n",
       "      <td>7032.000000</td>\n",
       "    </tr>\n",
       "    <tr>\n",
       "      <th>mean</th>\n",
       "      <td>0.162147</td>\n",
       "      <td>32.371149</td>\n",
       "      <td>64.761692</td>\n",
       "      <td>2283.300441</td>\n",
       "    </tr>\n",
       "    <tr>\n",
       "      <th>std</th>\n",
       "      <td>0.368612</td>\n",
       "      <td>24.559481</td>\n",
       "      <td>30.090047</td>\n",
       "      <td>2266.771362</td>\n",
       "    </tr>\n",
       "    <tr>\n",
       "      <th>min</th>\n",
       "      <td>0.000000</td>\n",
       "      <td>0.000000</td>\n",
       "      <td>18.250000</td>\n",
       "      <td>18.800000</td>\n",
       "    </tr>\n",
       "    <tr>\n",
       "      <th>25%</th>\n",
       "      <td>0.000000</td>\n",
       "      <td>9.000000</td>\n",
       "      <td>35.500000</td>\n",
       "      <td>401.450000</td>\n",
       "    </tr>\n",
       "    <tr>\n",
       "      <th>50%</th>\n",
       "      <td>0.000000</td>\n",
       "      <td>29.000000</td>\n",
       "      <td>70.350000</td>\n",
       "      <td>1397.475000</td>\n",
       "    </tr>\n",
       "    <tr>\n",
       "      <th>75%</th>\n",
       "      <td>0.000000</td>\n",
       "      <td>55.000000</td>\n",
       "      <td>89.850000</td>\n",
       "      <td>3794.737500</td>\n",
       "    </tr>\n",
       "    <tr>\n",
       "      <th>max</th>\n",
       "      <td>1.000000</td>\n",
       "      <td>72.000000</td>\n",
       "      <td>118.750000</td>\n",
       "      <td>8684.800000</td>\n",
       "    </tr>\n",
       "  </tbody>\n",
       "</table>\n",
       "</div>"
      ],
      "text/plain": [
       "       SeniorCitizen       tenure  MonthlyCharges  TotalCharges\n",
       "count    7043.000000  7043.000000     7043.000000   7032.000000\n",
       "mean        0.162147    32.371149       64.761692   2283.300441\n",
       "std         0.368612    24.559481       30.090047   2266.771362\n",
       "min         0.000000     0.000000       18.250000     18.800000\n",
       "25%         0.000000     9.000000       35.500000    401.450000\n",
       "50%         0.000000    29.000000       70.350000   1397.475000\n",
       "75%         0.000000    55.000000       89.850000   3794.737500\n",
       "max         1.000000    72.000000      118.750000   8684.800000"
      ]
     },
     "execution_count": 10,
     "metadata": {},
     "output_type": "execute_result"
    }
   ],
   "source": [
    "df.describe()\n"
   ]
  },
  {
   "cell_type": "markdown",
   "id": "965f74ac",
   "metadata": {},
   "source": [
    "### Looking at histograms"
   ]
  },
  {
   "cell_type": "code",
   "execution_count": 11,
   "id": "0515d234",
   "metadata": {},
   "outputs": [
    {
     "data": {
      "text/plain": [
       "Text(0.5, 0, 'Internet Type')"
      ]
     },
     "execution_count": 11,
     "metadata": {},
     "output_type": "execute_result"
    },
    {
     "data": {
      "image/png": "[encoded data removed]",
      "text/plain": [
       "<Figure size 640x480 with 1 Axes>"
      ]
     },
     "metadata": {},
     "output_type": "display_data"
    }
   ],
   "source": [
    "# Internet service and churn\n",
    "sns.histplot(data=df,\n",
    "            x=df.InternetService,\n",
    "            hue=df.Churn,\n",
    "            multiple='stack')\n",
    "\n",
    "plt.title(\"Internet Service vs Churn\")\n",
    "plt.xlabel('Internet Type')"
   ]
  },
  {
   "cell_type": "code",
   "execution_count": 12,
   "id": "fabcc88a",
   "metadata": {},
   "outputs": [
    {
     "data": {
      "text/plain": [
       "Text(0.5, 0, 'tenure')"
      ]
     },
     "execution_count": 12,
     "metadata": {},
     "output_type": "execute_result"
    },
    {
     "data": {
      "image/png": "[encoded data removed]",
      "text/plain": [
       "<Figure size 640x480 with 1 Axes>"
      ]
     },
     "metadata": {},
     "output_type": "display_data"
    }
   ],
   "source": [
    "# Look at tenure and churn\n",
    "sns.histplot(data=df,\n",
    "            x=df.tenure,\n",
    "            hue=df.Churn,\n",
    "            multiple='stack')\n",
    "\n",
    "plt.title(\"tenure vs Churn\")\n",
    "plt.xlabel('tenure')"
   ]
  },
  {
   "cell_type": "code",
   "execution_count": 13,
   "id": "d869adad",
   "metadata": {},
   "outputs": [
    {
     "data": {
      "text/plain": [
       "Text(0.5, 0, 'monthy payments')"
      ]
     },
     "execution_count": 13,
     "metadata": {},
     "output_type": "execute_result"
    },
    {
     "data": {
      "image/png": "[encoded data removed]",
      "text/plain": [
       "<Figure size 640x480 with 1 Axes>"
      ]
     },
     "metadata": {},
     "output_type": "display_data"
    }
   ],
   "source": [
    "# Look at monthly payments and churn\n",
    "sns.histplot(data=df,\n",
    "            x=df.MonthlyCharges,\n",
    "            hue=df.Churn,\n",
    "            multiple='stack')\n",
    "\n",
    "plt.title(\"monthly payments vs Churn\")\n",
    "plt.xlabel('monthy payments')"
   ]
  },
  {
   "cell_type": "code",
   "execution_count": 14,
   "id": "ab8bafff",
   "metadata": {},
   "outputs": [
    {
     "data": {
      "text/plain": [
       "Text(0.5, 0, 'OnlineSecurity')"
      ]
     },
     "execution_count": 14,
     "metadata": {},
     "output_type": "execute_result"
    },
    {
     "data": {
      "image/png": "[encoded data removed]",
      "text/plain": [
       "<Figure size 640x480 with 1 Axes>"
      ]
     },
     "metadata": {},
     "output_type": "display_data"
    }
   ],
   "source": [
    "# Look at online security and churn\n",
    "sns.histplot(data=df,\n",
    "            x=df.OnlineSecurity,\n",
    "            hue=df.Churn,\n",
    "            multiple='stack')\n",
    "\n",
    "plt.title(\"OnlineSecurity vs Churn\")\n",
    "plt.xlabel('OnlineSecurity')"
   ]
  },
  {
   "cell_type": "markdown",
   "id": "910bbc18",
   "metadata": {},
   "source": [
    "    "
   ]
  },
  {
   "cell_type": "markdown",
   "id": "c4ae3eae",
   "metadata": {},
   "source": [
    "    "
   ]
  },
  {
   "cell_type": "markdown",
   "id": "4198b3f6",
   "metadata": {},
   "source": [
    "# Prepare"
   ]
  },
  {
   "cell_type": "markdown",
   "id": "23469984",
   "metadata": {},
   "source": [
    "- Create acquire.py, prepare.py, and explore.py\n",
    "- Split data (train/validate/test)\n",
    "- Handle missing values in any\n",
    "- Encode with get_dummies any values\n",
    "- Create any new features, if you decided to make any for this project\n",
    "- Get an (MVP)\n",
    "    - create new feature for tenure in years\n",
    "    - create single var. (dependents and partner = family)"
   ]
  },
  {
   "cell_type": "code",
   "execution_count": 15,
   "id": "37df3092",
   "metadata": {},
   "outputs": [],
   "source": [
    "# Clean the data"
   ]
  },
  {
   "cell_type": "code",
   "execution_count": 16,
   "id": "71664942",
   "metadata": {},
   "outputs": [],
   "source": [
    "df = prep_telco_data(df)"
   ]
  },
  {
   "cell_type": "code",
   "execution_count": 17,
   "id": "e8634983",
   "metadata": {},
   "outputs": [
    {
     "data": {
      "text/html": [
       "<div>\n",
       "<style scoped>\n",
       "    .dataframe tbody tr th:only-of-type {\n",
       "        vertical-align: middle;\n",
       "    }\n",
       "\n",
       "    .dataframe tbody tr th {\n",
       "        vertical-align: top;\n",
       "    }\n",
       "\n",
       "    .dataframe thead th {\n",
       "        text-align: right;\n",
       "    }\n",
       "</style>\n",
       "<table border=\"1\" class=\"dataframe\">\n",
       "  <thead>\n",
       "    <tr style=\"text-align: right;\">\n",
       "      <th></th>\n",
       "      <th>customer_id</th>\n",
       "      <th>senior_citizen</th>\n",
       "      <th>tenure</th>\n",
       "      <th>monthly_charges</th>\n",
       "      <th>total_charges</th>\n",
       "      <th>internet_service_Fiber optic</th>\n",
       "      <th>internet_service_No</th>\n",
       "      <th>gender_Male</th>\n",
       "      <th>payment_method_Credit card (automatic)</th>\n",
       "      <th>payment_method_Electronic check</th>\n",
       "      <th>...</th>\n",
       "      <th>device_protection_No internet service</th>\n",
       "      <th>device_protection_Yes</th>\n",
       "      <th>Churn_Yes</th>\n",
       "      <th>tech_support_No internet service</th>\n",
       "      <th>tech_support_Yes</th>\n",
       "      <th>streaming_movies_No internet service</th>\n",
       "      <th>streaming_movies_Yes</th>\n",
       "      <th>streaming_tv_No internet service</th>\n",
       "      <th>streaming_tv_Yes</th>\n",
       "      <th>paperless_billing_Yes</th>\n",
       "    </tr>\n",
       "  </thead>\n",
       "  <tbody>\n",
       "    <tr>\n",
       "      <th>0</th>\n",
       "      <td>7590-VHVEG</td>\n",
       "      <td>0</td>\n",
       "      <td>1</td>\n",
       "      <td>29.85</td>\n",
       "      <td>29.85</td>\n",
       "      <td>0</td>\n",
       "      <td>0</td>\n",
       "      <td>0</td>\n",
       "      <td>0</td>\n",
       "      <td>1</td>\n",
       "      <td>...</td>\n",
       "      <td>0</td>\n",
       "      <td>0</td>\n",
       "      <td>0</td>\n",
       "      <td>0</td>\n",
       "      <td>0</td>\n",
       "      <td>0</td>\n",
       "      <td>0</td>\n",
       "      <td>0</td>\n",
       "      <td>0</td>\n",
       "      <td>1</td>\n",
       "    </tr>\n",
       "    <tr>\n",
       "      <th>1</th>\n",
       "      <td>5575-GNVDE</td>\n",
       "      <td>0</td>\n",
       "      <td>34</td>\n",
       "      <td>56.95</td>\n",
       "      <td>1889.50</td>\n",
       "      <td>0</td>\n",
       "      <td>0</td>\n",
       "      <td>1</td>\n",
       "      <td>0</td>\n",
       "      <td>0</td>\n",
       "      <td>...</td>\n",
       "      <td>0</td>\n",
       "      <td>1</td>\n",
       "      <td>0</td>\n",
       "      <td>0</td>\n",
       "      <td>0</td>\n",
       "      <td>0</td>\n",
       "      <td>0</td>\n",
       "      <td>0</td>\n",
       "      <td>0</td>\n",
       "      <td>0</td>\n",
       "    </tr>\n",
       "    <tr>\n",
       "      <th>2</th>\n",
       "      <td>3668-QPYBK</td>\n",
       "      <td>0</td>\n",
       "      <td>2</td>\n",
       "      <td>53.85</td>\n",
       "      <td>108.15</td>\n",
       "      <td>0</td>\n",
       "      <td>0</td>\n",
       "      <td>1</td>\n",
       "      <td>0</td>\n",
       "      <td>0</td>\n",
       "      <td>...</td>\n",
       "      <td>0</td>\n",
       "      <td>0</td>\n",
       "      <td>1</td>\n",
       "      <td>0</td>\n",
       "      <td>0</td>\n",
       "      <td>0</td>\n",
       "      <td>0</td>\n",
       "      <td>0</td>\n",
       "      <td>0</td>\n",
       "      <td>1</td>\n",
       "    </tr>\n",
       "    <tr>\n",
       "      <th>3</th>\n",
       "      <td>7795-CFOCW</td>\n",
       "      <td>0</td>\n",
       "      <td>45</td>\n",
       "      <td>42.30</td>\n",
       "      <td>1840.75</td>\n",
       "      <td>0</td>\n",
       "      <td>0</td>\n",
       "      <td>1</td>\n",
       "      <td>0</td>\n",
       "      <td>0</td>\n",
       "      <td>...</td>\n",
       "      <td>0</td>\n",
       "      <td>1</td>\n",
       "      <td>0</td>\n",
       "      <td>0</td>\n",
       "      <td>1</td>\n",
       "      <td>0</td>\n",
       "      <td>0</td>\n",
       "      <td>0</td>\n",
       "      <td>0</td>\n",
       "      <td>0</td>\n",
       "    </tr>\n",
       "    <tr>\n",
       "      <th>4</th>\n",
       "      <td>9237-HQITU</td>\n",
       "      <td>0</td>\n",
       "      <td>2</td>\n",
       "      <td>70.70</td>\n",
       "      <td>151.65</td>\n",
       "      <td>1</td>\n",
       "      <td>0</td>\n",
       "      <td>0</td>\n",
       "      <td>0</td>\n",
       "      <td>1</td>\n",
       "      <td>...</td>\n",
       "      <td>0</td>\n",
       "      <td>0</td>\n",
       "      <td>1</td>\n",
       "      <td>0</td>\n",
       "      <td>0</td>\n",
       "      <td>0</td>\n",
       "      <td>0</td>\n",
       "      <td>0</td>\n",
       "      <td>0</td>\n",
       "      <td>1</td>\n",
       "    </tr>\n",
       "  </tbody>\n",
       "</table>\n",
       "<p>5 rows × 32 columns</p>\n",
       "</div>"
      ],
      "text/plain": [
       "  customer_id  senior_citizen  tenure  monthly_charges  total_charges  \\\n",
       "0  7590-VHVEG               0       1            29.85          29.85   \n",
       "1  5575-GNVDE               0      34            56.95        1889.50   \n",
       "2  3668-QPYBK               0       2            53.85         108.15   \n",
       "3  7795-CFOCW               0      45            42.30        1840.75   \n",
       "4  9237-HQITU               0       2            70.70         151.65   \n",
       "\n",
       "   internet_service_Fiber optic  internet_service_No  gender_Male  \\\n",
       "0                             0                    0            0   \n",
       "1                             0                    0            1   \n",
       "2                             0                    0            1   \n",
       "3                             0                    0            1   \n",
       "4                             1                    0            0   \n",
       "\n",
       "   payment_method_Credit card (automatic)  payment_method_Electronic check  \\\n",
       "0                                       0                                1   \n",
       "1                                       0                                0   \n",
       "2                                       0                                0   \n",
       "3                                       0                                0   \n",
       "4                                       0                                1   \n",
       "\n",
       "   ...  device_protection_No internet service  device_protection_Yes  \\\n",
       "0  ...                                      0                      0   \n",
       "1  ...                                      0                      1   \n",
       "2  ...                                      0                      0   \n",
       "3  ...                                      0                      1   \n",
       "4  ...                                      0                      0   \n",
       "\n",
       "   Churn_Yes  tech_support_No internet service  tech_support_Yes  \\\n",
       "0          0                                 0                 0   \n",
       "1          0                                 0                 0   \n",
       "2          1                                 0                 0   \n",
       "3          0                                 0                 1   \n",
       "4          1                                 0                 0   \n",
       "\n",
       "   streaming_movies_No internet service  streaming_movies_Yes  \\\n",
       "0                                     0                     0   \n",
       "1                                     0                     0   \n",
       "2                                     0                     0   \n",
       "3                                     0                     0   \n",
       "4                                     0                     0   \n",
       "\n",
       "   streaming_tv_No internet service  streaming_tv_Yes  paperless_billing_Yes  \n",
       "0                                 0                 0                      1  \n",
       "1                                 0                 0                      0  \n",
       "2                                 0                 0                      1  \n",
       "3                                 0                 0                      0  \n",
       "4                                 0                 0                      1  \n",
       "\n",
       "[5 rows x 32 columns]"
      ]
     },
     "execution_count": 17,
     "metadata": {},
     "output_type": "execute_result"
    }
   ],
   "source": [
    "df.head()"
   ]
  },
  {
   "cell_type": "code",
   "execution_count": 18,
   "id": "bf3a6877",
   "metadata": {},
   "outputs": [
    {
     "name": "stdout",
     "output_type": "stream",
     "text": [
      "<class 'pandas.core.frame.DataFrame'>\n",
      "RangeIndex: 7043 entries, 0 to 7042\n",
      "Data columns (total 32 columns):\n",
      " #   Column                                  Non-Null Count  Dtype  \n",
      "---  ------                                  --------------  -----  \n",
      " 0   customer_id                             7043 non-null   object \n",
      " 1   senior_citizen                          7043 non-null   int64  \n",
      " 2   tenure                                  7043 non-null   int64  \n",
      " 3   monthly_charges                         7043 non-null   float64\n",
      " 4   total_charges                           7043 non-null   float64\n",
      " 5   internet_service_Fiber optic            7043 non-null   uint8  \n",
      " 6   internet_service_No                     7043 non-null   uint8  \n",
      " 7   gender_Male                             7043 non-null   uint8  \n",
      " 8   payment_method_Credit card (automatic)  7043 non-null   uint8  \n",
      " 9   payment_method_Electronic check         7043 non-null   uint8  \n",
      " 10  payment_method_Mailed check             7043 non-null   uint8  \n",
      " 11  contract_One year                       7043 non-null   uint8  \n",
      " 12  contract_Two year                       7043 non-null   uint8  \n",
      " 13  partner_Yes                             7043 non-null   uint8  \n",
      " 14  dependents_Yes                          7043 non-null   uint8  \n",
      " 15  phone_service_Yes                       7043 non-null   uint8  \n",
      " 16  multiple_lines_No phone service         7043 non-null   uint8  \n",
      " 17  multiple_lines_Yes                      7043 non-null   uint8  \n",
      " 18  online_security_No internet service     7043 non-null   uint8  \n",
      " 19  online_security_Yes                     7043 non-null   uint8  \n",
      " 20  online_backup_No internet service       7043 non-null   uint8  \n",
      " 21  online_backup_Yes                       7043 non-null   uint8  \n",
      " 22  device_protection_No internet service   7043 non-null   uint8  \n",
      " 23  device_protection_Yes                   7043 non-null   uint8  \n",
      " 24  Churn_Yes                               7043 non-null   uint8  \n",
      " 25  tech_support_No internet service        7043 non-null   uint8  \n",
      " 26  tech_support_Yes                        7043 non-null   uint8  \n",
      " 27  streaming_movies_No internet service    7043 non-null   uint8  \n",
      " 28  streaming_movies_Yes                    7043 non-null   uint8  \n",
      " 29  streaming_tv_No internet service        7043 non-null   uint8  \n",
      " 30  streaming_tv_Yes                        7043 non-null   uint8  \n",
      " 31  paperless_billing_Yes                   7043 non-null   uint8  \n",
      "dtypes: float64(2), int64(2), object(1), uint8(27)\n",
      "memory usage: 460.9+ KB\n"
     ]
    }
   ],
   "source": [
    "df.info()"
   ]
  },
  {
   "cell_type": "markdown",
   "id": "35db993a",
   "metadata": {},
   "source": [
    "    "
   ]
  },
  {
   "cell_type": "markdown",
   "id": "2d5fb5c4",
   "metadata": {},
   "source": [
    "   "
   ]
  },
  {
   "cell_type": "code",
   "execution_count": 19,
   "id": "9fffda2c",
   "metadata": {},
   "outputs": [],
   "source": [
    "# Explore"
   ]
  },
  {
   "cell_type": "markdown",
   "id": "e7481737",
   "metadata": {},
   "source": [
    "- Run at least 2 statistical tests (2 hypothesis)\n",
    "- Document findings\n",
    "- Create visualizations (discover variable relationships)\n",
    "- Identify features that relate to churn(target)"
   ]
  },
  {
   "cell_type": "code",
   "execution_count": 20,
   "id": "90bfb057",
   "metadata": {},
   "outputs": [],
   "source": [
    "train, validate, test = train_validate_test_split(df, target = 'Churn_Yes', seed=123)"
   ]
  },
  {
   "cell_type": "code",
   "execution_count": 21,
   "id": "b0ac819e",
   "metadata": {},
   "outputs": [],
   "source": [
    "train = train.drop(columns='customer_id')\n",
    "validate = validate.drop(columns='customer_id')\n",
    "test = test.drop(columns='customer_id')"
   ]
  },
  {
   "cell_type": "code",
   "execution_count": null,
   "id": "7b9eeeb0",
   "metadata": {},
   "outputs": [],
   "source": []
  },
  {
   "cell_type": "code",
   "execution_count": 22,
   "id": "6c5df622",
   "metadata": {},
   "outputs": [],
   "source": [
    "X_train, y_train = data_target_split(train)"
   ]
  },
  {
   "cell_type": "code",
   "execution_count": 23,
   "id": "4a26b125",
   "metadata": {},
   "outputs": [],
   "source": [
    "X_train = train.drop(columns=['Churn_Yes'])\n",
    "y_train = train.Churn_Yes\n",
    "\n",
    "X_validate = validate.drop(columns=['Churn_Yes'])\n",
    "y_validate = validate.Churn_Yes\n",
    "\n",
    "X_test = test.drop(columns=['Churn_Yes'])\n",
    "y_test = test.Churn_Yes"
   ]
  },
  {
   "cell_type": "code",
   "execution_count": 24,
   "id": "5a0ddef1",
   "metadata": {},
   "outputs": [
    {
     "data": {
      "text/plain": [
       "0    5174\n",
       "1    1869\n",
       "Name: Churn_Yes, dtype: int64"
      ]
     },
     "execution_count": 24,
     "metadata": {},
     "output_type": "execute_result"
    }
   ],
   "source": [
    "df.Churn_Yes.value_counts() # (We will use 'No')"
   ]
  },
  {
   "cell_type": "code",
   "execution_count": 25,
   "id": "6446c964",
   "metadata": {},
   "outputs": [],
   "source": [
    "confidence_interval = 0.95\n",
    "alpha = 1 - confidence_interval"
   ]
  },
  {
   "cell_type": "markdown",
   "id": "ce1b3c54",
   "metadata": {},
   "source": [
    "   "
   ]
  },
  {
   "cell_type": "markdown",
   "id": "1f8427d8",
   "metadata": {},
   "source": [
    "   "
   ]
  },
  {
   "cell_type": "markdown",
   "id": "93c95368",
   "metadata": {},
   "source": [
    "# Hypothesis Testing"
   ]
  },
  {
   "cell_type": "markdown",
   "id": "f9b3afdc",
   "metadata": {},
   "source": [
    "- Are customers more likely to churn with fiber optic internet service?\n"
   ]
  },
  {
   "cell_type": "markdown",
   "id": "0a673a19",
   "metadata": {},
   "source": [
    "H$_0$: There is no diffrence in churn between customers with fiber optice internet services and those whithout.\n",
    "\n",
    "H$_a$: There is a significant diffrence in churn between the customers that have fiber optic."
   ]
  },
  {
   "cell_type": "code",
   "execution_count": 26,
   "id": "0e937737",
   "metadata": {},
   "outputs": [],
   "source": [
    "fiberoptic = np.where((X_train['internet_service_Fiber optic']==1) & (X_train.internet_service_No==0), 1, 0)"
   ]
  },
  {
   "cell_type": "code",
   "execution_count": 27,
   "id": "f9de0678",
   "metadata": {},
   "outputs": [],
   "source": [
    "outcomes_1 = pd.crosstab(fiberoptic, train.Churn_Yes)\n",
    "outcomes_1 = outcomes_1.rename(index={0:'No_fiber_optic', 1: 'Fiber_optic'}, columns={0:'No_Churn', 1:'Churn'})"
   ]
  },
  {
   "cell_type": "code",
   "execution_count": 28,
   "id": "c9523236",
   "metadata": {},
   "outputs": [
    {
     "data": {
      "text/html": [
       "<div>\n",
       "<style scoped>\n",
       "    .dataframe tbody tr th:only-of-type {\n",
       "        vertical-align: middle;\n",
       "    }\n",
       "\n",
       "    .dataframe tbody tr th {\n",
       "        vertical-align: top;\n",
       "    }\n",
       "\n",
       "    .dataframe thead th {\n",
       "        text-align: right;\n",
       "    }\n",
       "</style>\n",
       "<table border=\"1\" class=\"dataframe\">\n",
       "  <thead>\n",
       "    <tr style=\"text-align: right;\">\n",
       "      <th>Churn_Yes</th>\n",
       "      <th>No_Churn</th>\n",
       "      <th>Churn</th>\n",
       "    </tr>\n",
       "    <tr>\n",
       "      <th>row_0</th>\n",
       "      <th></th>\n",
       "      <th></th>\n",
       "    </tr>\n",
       "  </thead>\n",
       "  <tbody>\n",
       "    <tr>\n",
       "      <th>No_fiber_optic</th>\n",
       "      <td>1923</td>\n",
       "      <td>322</td>\n",
       "    </tr>\n",
       "    <tr>\n",
       "      <th>Fiber_optic</th>\n",
       "      <td>974</td>\n",
       "      <td>724</td>\n",
       "    </tr>\n",
       "  </tbody>\n",
       "</table>\n",
       "</div>"
      ],
      "text/plain": [
       "Churn_Yes       No_Churn  Churn\n",
       "row_0                          \n",
       "No_fiber_optic      1923    322\n",
       "Fiber_optic          974    724"
      ]
     },
     "execution_count": 28,
     "metadata": {},
     "output_type": "execute_result"
    }
   ],
   "source": [
    "outcomes_1"
   ]
  },
  {
   "cell_type": "code",
   "execution_count": 29,
   "id": "4744a384",
   "metadata": {},
   "outputs": [
    {
     "data": {
      "text/plain": [
       "0    2245\n",
       "1    1698\n",
       "Name: internet_service_Fiber optic, dtype: int64"
      ]
     },
     "execution_count": 29,
     "metadata": {},
     "output_type": "execute_result"
    }
   ],
   "source": [
    "train['internet_service_Fiber optic'].value_counts()"
   ]
  },
  {
   "cell_type": "code",
   "execution_count": 30,
   "id": "99bf91a4",
   "metadata": {},
   "outputs": [
    {
     "name": "stdout",
     "output_type": "stream",
     "text": [
      "Chi2: 395.68\n",
      "P-Value: 0.00\n",
      "alpha: 0.05\n",
      "\n",
      "P-Value is less than alpha:\n",
      "Reject HO (for Ha). There is a significant diffrence in churn between the customers that have fiber optic.\n"
     ]
    }
   ],
   "source": [
    "chi2, p, degf, expected = stats.chi2_contingency(outcomes_1)\n",
    "\n",
    "print((\"Chi2: {:.2f}\" \n",
    "      \"\\nP-Value: {:.2f}\\nalpha: {:.2f}\\n\").format(chi2, p, alpha))\n",
    "\n",
    "if p < alpha:\n",
    "    print(\"P-Value is less than alpha:\")\n",
    "    print('Reject HO (for Ha). There is a significant diffrence in churn between the customers that have fiber optic.')\n",
    "else:\n",
    "    print('Fail to reject HO. There is no diffrence in churn between customers with fiber optice internet services and those whithout.')"
   ]
  },
  {
   "cell_type": "raw",
   "id": "2345f8a1",
   "metadata": {},
   "source": []
  },
  {
   "cell_type": "raw",
   "id": "74dec7ac",
   "metadata": {},
   "source": []
  },
  {
   "cell_type": "markdown",
   "id": "2420c870",
   "metadata": {},
   "source": [
    "- Are customers that have no online security and fiber optic and have more likly to churn?"
   ]
  },
  {
   "cell_type": "markdown",
   "id": "f68de144",
   "metadata": {},
   "source": [
    "H$_0$: There is no diffrence in churn dependening on if the customer has online security and has fiber optic.\n",
    "    \n",
    "H$_a$: There is a significant diffrence in churn dependening on if the customer has online security and has fiber optic."
   ]
  },
  {
   "cell_type": "code",
   "execution_count": 31,
   "id": "61363fb1",
   "metadata": {},
   "outputs": [],
   "source": [
    "fiber_security = np.where((X_train['online_security_Yes']==0) & (X_train['internet_service_Fiber optic']==1), 1, 0)"
   ]
  },
  {
   "cell_type": "code",
   "execution_count": 32,
   "id": "aa370692",
   "metadata": {},
   "outputs": [],
   "source": [
    "outcomes_2 = pd.crosstab(fiber_security, train.Churn_Yes)\n",
    "outcomes_2 = outcomes_2.rename(index={0:'fiber_no_security', 1: 'fiber_and_security'}, columns={0:'No_Churn', 1:'Churn'})"
   ]
  },
  {
   "cell_type": "code",
   "execution_count": 33,
   "id": "45afc03d",
   "metadata": {},
   "outputs": [
    {
     "data": {
      "text/html": [
       "<div>\n",
       "<style scoped>\n",
       "    .dataframe tbody tr th:only-of-type {\n",
       "        vertical-align: middle;\n",
       "    }\n",
       "\n",
       "    .dataframe tbody tr th {\n",
       "        vertical-align: top;\n",
       "    }\n",
       "\n",
       "    .dataframe thead th {\n",
       "        text-align: right;\n",
       "    }\n",
       "</style>\n",
       "<table border=\"1\" class=\"dataframe\">\n",
       "  <thead>\n",
       "    <tr style=\"text-align: right;\">\n",
       "      <th>Churn_Yes</th>\n",
       "      <th>No_Churn</th>\n",
       "      <th>Churn</th>\n",
       "    </tr>\n",
       "    <tr>\n",
       "      <th>row_0</th>\n",
       "      <th></th>\n",
       "      <th></th>\n",
       "    </tr>\n",
       "  </thead>\n",
       "  <tbody>\n",
       "    <tr>\n",
       "      <th>fiber_no_security</th>\n",
       "      <td>2274</td>\n",
       "      <td>419</td>\n",
       "    </tr>\n",
       "    <tr>\n",
       "      <th>fiber_and_security</th>\n",
       "      <td>623</td>\n",
       "      <td>627</td>\n",
       "    </tr>\n",
       "  </tbody>\n",
       "</table>\n",
       "</div>"
      ],
      "text/plain": [
       "Churn_Yes           No_Churn  Churn\n",
       "row_0                              \n",
       "fiber_no_security       2274    419\n",
       "fiber_and_security       623    627"
      ]
     },
     "execution_count": 33,
     "metadata": {},
     "output_type": "execute_result"
    }
   ],
   "source": [
    "outcomes_2"
   ]
  },
  {
   "cell_type": "code",
   "execution_count": 34,
   "id": "2e632fd7",
   "metadata": {},
   "outputs": [
    {
     "data": {
      "text/plain": [
       "0    2245\n",
       "1    1698\n",
       "Name: internet_service_Fiber optic, dtype: int64"
      ]
     },
     "execution_count": 34,
     "metadata": {},
     "output_type": "execute_result"
    }
   ],
   "source": [
    "train['internet_service_Fiber optic'].value_counts()"
   ]
  },
  {
   "cell_type": "code",
   "execution_count": 35,
   "id": "c55c10f5",
   "metadata": {},
   "outputs": [
    {
     "data": {
      "text/plain": [
       "0    2830\n",
       "1    1113\n",
       "Name: online_security_Yes, dtype: int64"
      ]
     },
     "execution_count": 35,
     "metadata": {},
     "output_type": "execute_result"
    }
   ],
   "source": [
    "train['online_security_Yes'].value_counts()"
   ]
  },
  {
   "cell_type": "code",
   "execution_count": 36,
   "id": "366f71d3",
   "metadata": {},
   "outputs": [
    {
     "name": "stdout",
     "output_type": "stream",
     "text": [
      "Chi2: 522.64\n",
      "P-Value: 0.00\n",
      "alpha: 0.05\n",
      "\n",
      "P-Value is less than alpha:\n",
      "Reject HO (for Ha). There is a significant diffrence in churn dependening on if the customer has online security and has fiber optic.\n"
     ]
    }
   ],
   "source": [
    "chi2, p, degf, expected = stats.chi2_contingency(outcomes_2)\n",
    "\n",
    "print((\"Chi2: {:.2f}\" \\\n",
    "      \"\\nP-Value: {:.2f}\\nalpha: {:.2f}\\n\").format(chi2, p, alpha))\n",
    "\n",
    "if p < alpha:\n",
    "    print(\"P-Value is less than alpha:\")\n",
    "    print('Reject HO (for Ha). There is a significant diffrence in churn dependening on if the customer has online security and has fiber optic.')\n",
    "else:\n",
    "    print('Fail to reject HO. There is no significant diffrence in churn dependening on if the customer has online security and has fiber optic.')"
   ]
  },
  {
   "cell_type": "markdown",
   "id": "42dde954",
   "metadata": {},
   "source": [
    "# Modeling"
   ]
  },
  {
   "cell_type": "code",
   "execution_count": 37,
   "id": "59d6345e",
   "metadata": {},
   "outputs": [],
   "source": [
    "from sklearn.linear_model import LogisticRegression\n",
    "from sklearn.tree import DecisionTreeClassifier\n",
    "from sklearn.ensemble import RandomForestClassifier\n",
    "from sklearn.neighbors import KNeighborsClassifier"
   ]
  },
  {
   "cell_type": "code",
   "execution_count": 38,
   "id": "2ed4d21f",
   "metadata": {},
   "outputs": [
    {
     "data": {
      "text/plain": [
       "0.735"
      ]
     },
     "execution_count": 38,
     "metadata": {},
     "output_type": "execute_result"
    }
   ],
   "source": [
    "baseline_accuracy = (train.Churn_Yes== 0).mean()\n",
    "round(baseline_accuracy, 3)"
   ]
  },
  {
   "cell_type": "code",
   "execution_count": 39,
   "id": "36b23663",
   "metadata": {},
   "outputs": [],
   "source": [
    "X_validate, y_validate = data_target_split(validate)\n",
    "X_test, y_test = data_target_split(test)"
   ]
  },
  {
   "cell_type": "markdown",
   "id": "82fa564e",
   "metadata": {},
   "source": [
    "### Log reg."
   ]
  },
  {
   "cell_type": "code",
   "execution_count": 40,
   "id": "a931bc55",
   "metadata": {},
   "outputs": [],
   "source": [
    "import warnings\n",
    "warnings.filterwarnings('ignore')\n",
    "\n",
    "logreg = LogisticRegression().fit(X_train, y_train)\n",
    "logreg_train_accuracy = logreg.score(X_train, y_train)"
   ]
  },
  {
   "cell_type": "markdown",
   "id": "9b32f01a",
   "metadata": {},
   "source": [
    "### Decision Tree"
   ]
  },
  {
   "cell_type": "code",
   "execution_count": 41,
   "id": "574f85ec",
   "metadata": {},
   "outputs": [],
   "source": [
    "forest = DecisionTreeClassifier().fit(X_train, y_train)\n",
    "forest_train_accuracy = forest.score(X_train, y_train)"
   ]
  },
  {
   "cell_type": "markdown",
   "id": "dce9cef6",
   "metadata": {},
   "source": [
    "### Random Forest"
   ]
  },
  {
   "cell_type": "code",
   "execution_count": 42,
   "id": "29f8d297",
   "metadata": {},
   "outputs": [],
   "source": [
    "rforest = RandomForestClassifier().fit(X_train, y_train)\n",
    "r_forest_train_accuracy = rforest.score(X_train, y_train)\n"
   ]
  },
  {
   "cell_type": "markdown",
   "id": "0728ce52",
   "metadata": {},
   "source": [
    "### K Nearest Neighbors"
   ]
  },
  {
   "cell_type": "code",
   "execution_count": 43,
   "id": "e4c92366",
   "metadata": {},
   "outputs": [],
   "source": [
    "knn = KNeighborsClassifier().fit(X_train, y_train)\n",
    "knn_train_accuracy = knn.score(X_train, y_train)"
   ]
  },
  {
   "cell_type": "markdown",
   "id": "c0e9dc8d",
   "metadata": {},
   "source": [
    "# Results"
   ]
  },
  {
   "cell_type": "code",
   "execution_count": 44,
   "id": "6b4389e5",
   "metadata": {},
   "outputs": [
    {
     "name": "stdout",
     "output_type": "stream",
     "text": [
      "Baseline Accuracy --- 73.47%\n",
      "\n",
      "Logistic Regression Accuracy --- 80.45%\n",
      "Decision Tree Accuracy --- 99.77%\n",
      "Random Forest Accuracy --- 99.77%\n",
      "KNN Accuracy Accuracy --- 82.93%\n"
     ]
    }
   ],
   "source": [
    "print(f\"Baseline Accuracy --- {baseline_accuracy:.2%}\")\n",
    "print(\"\")\n",
    "print(f\"Logistic Regression Accuracy --- {logreg_train_accuracy:.2%}\")\n",
    "print(f\"Decision Tree Accuracy --- {forest_train_accuracy:.2%}\")\n",
    "print(f\"Random Forest Accuracy --- {r_forest_train_accuracy:.2%}\")\n",
    "print(f\"KNN Accuracy Accuracy --- {knn_train_accuracy:.2%}\")"
   ]
  },
  {
   "cell_type": "code",
   "execution_count": 45,
   "id": "ba384a0d",
   "metadata": {},
   "outputs": [
    {
     "name": "stdout",
     "output_type": "stream",
     "text": [
      "Logistic Regression Accuracy --- 81.08%\n",
      "Decision Tree Accuracy --- 72.68%\n",
      "Random Forest Accuracy --- 79.78%\n",
      "KNN Accuracy Accuracy --- 76.64%\n"
     ]
    }
   ],
   "source": [
    "logreg_validate_accuracy = logreg.score(X_validate, y_validate)\n",
    "forest_validate_accuracy = forest.score(X_validate, y_validate)\n",
    "r_forest_validate_accuracy = rforest.score(X_validate, y_validate)\n",
    "knn_validate_accuracy = knn.score(X_validate, y_validate)\n",
    "\n",
    "print(f\"Logistic Regression Accuracy --- {logreg_validate_accuracy:.2%}\")\n",
    "print(f\"Decision Tree Accuracy --- {forest_validate_accuracy:.2%}\")\n",
    "print(f\"Random Forest Accuracy --- {r_forest_validate_accuracy:.2%}\")\n",
    "print(f\"KNN Accuracy Accuracy --- {knn_validate_accuracy:.2%}\")"
   ]
  },
  {
   "cell_type": "code",
   "execution_count": 46,
   "id": "1944c4c1",
   "metadata": {},
   "outputs": [
    {
     "name": "stdout",
     "output_type": "stream",
     "text": [
      "Logistic Regression Accuracy --- 79.70%\n"
     ]
    }
   ],
   "source": [
    "logreg_test_accuracy = logreg.score(X_test, y_test)\n",
    "print(f\"Logistic Regression Accuracy --- {logreg_test_accuracy:.2%}\")"
   ]
  },
  {
   "cell_type": "markdown",
   "id": "79677b6e",
   "metadata": {},
   "source": [
    "# Predicting Customer Churn"
   ]
  },
  {
   "cell_type": "code",
   "execution_count": 47,
   "id": "6ddba2ca",
   "metadata": {},
   "outputs": [],
   "source": [
    "train, validate, test = train_validate_test_split(df, target = 'Churn_Yes', seed=123)"
   ]
  },
  {
   "cell_type": "code",
   "execution_count": 48,
   "id": "4c283db2",
   "metadata": {},
   "outputs": [],
   "source": [
    "df_telco = pd.concat([train, validate, test], axis=0)"
   ]
  },
  {
   "cell_type": "code",
   "execution_count": 49,
   "id": "f6786f94",
   "metadata": {},
   "outputs": [],
   "source": [
    "customer_ids = df_telco['customer_id']\n",
    "df_telco_data = df_telco.drop(columns=['customer_id', 'Churn_Yes'])\n",
    "df_telco_target = df_telco.Churn_Yes"
   ]
  },
  {
   "cell_type": "code",
   "execution_count": 50,
   "id": "1c815a7f",
   "metadata": {},
   "outputs": [
    {
     "name": "stdout",
     "output_type": "stream",
     "text": [
      "Logistic Regression Accuracy on Telco Data --- 80.45%\n"
     ]
    }
   ],
   "source": [
    "telco_accuracy = logreg.score(df_telco_data, df_telco_target)\n",
    "print(f\"Logistic Regression Accuracy on Telco Data --- {telco_accuracy:.2%}\")"
   ]
  },
  {
   "cell_type": "markdown",
   "id": "8d50f5e4",
   "metadata": {},
   "source": [
    "### Turn into csv"
   ]
  },
  {
   "cell_type": "code",
   "execution_count": 51,
   "id": "826a2ac8",
   "metadata": {},
   "outputs": [],
   "source": [
    "prediction_of_churn = pd.DataFrame({'churn_prediction' : logreg.predict(df_telco_data)})"
   ]
  },
  {
   "cell_type": "code",
   "execution_count": 52,
   "id": "47c07c13",
   "metadata": {},
   "outputs": [],
   "source": [
    "churn_probability = pd.DataFrame({'churn_probability': logreg.predict_proba(df_telco_data)[:,1]})"
   ]
  },
  {
   "cell_type": "code",
   "execution_count": 53,
   "id": "0f72ebdd",
   "metadata": {},
   "outputs": [],
   "source": [
    "data = [customer_ids, churn_probability, prediction_of_churn]\n",
    "\n",
    "customer_churn = pd.concat(data, axis=1)"
   ]
  },
  {
   "cell_type": "code",
   "execution_count": 54,
   "id": "c620526a",
   "metadata": {},
   "outputs": [
    {
     "data": {
      "text/html": [
       "<div>\n",
       "<style scoped>\n",
       "    .dataframe tbody tr th:only-of-type {\n",
       "        vertical-align: middle;\n",
       "    }\n",
       "\n",
       "    .dataframe tbody tr th {\n",
       "        vertical-align: top;\n",
       "    }\n",
       "\n",
       "    .dataframe thead th {\n",
       "        text-align: right;\n",
       "    }\n",
       "</style>\n",
       "<table border=\"1\" class=\"dataframe\">\n",
       "  <thead>\n",
       "    <tr style=\"text-align: right;\">\n",
       "      <th></th>\n",
       "      <th>customer_id</th>\n",
       "      <th>churn_probability</th>\n",
       "      <th>churn_prediction</th>\n",
       "    </tr>\n",
       "  </thead>\n",
       "  <tbody>\n",
       "    <tr>\n",
       "      <th>5262</th>\n",
       "      <td>4560-WQAQW</td>\n",
       "      <td>0.660250</td>\n",
       "      <td>1</td>\n",
       "    </tr>\n",
       "    <tr>\n",
       "      <th>3734</th>\n",
       "      <td>7134-HBPBS</td>\n",
       "      <td>0.447460</td>\n",
       "      <td>0</td>\n",
       "    </tr>\n",
       "    <tr>\n",
       "      <th>4340</th>\n",
       "      <td>4468-YDOVK</td>\n",
       "      <td>0.016307</td>\n",
       "      <td>0</td>\n",
       "    </tr>\n",
       "    <tr>\n",
       "      <th>2605</th>\n",
       "      <td>1790-NESIO</td>\n",
       "      <td>0.002876</td>\n",
       "      <td>0</td>\n",
       "    </tr>\n",
       "    <tr>\n",
       "      <th>2945</th>\n",
       "      <td>3987-KQDDU</td>\n",
       "      <td>0.732070</td>\n",
       "      <td>1</td>\n",
       "    </tr>\n",
       "  </tbody>\n",
       "</table>\n",
       "</div>"
      ],
      "text/plain": [
       "     customer_id  churn_probability  churn_prediction\n",
       "5262  4560-WQAQW           0.660250                 1\n",
       "3734  7134-HBPBS           0.447460                 0\n",
       "4340  4468-YDOVK           0.016307                 0\n",
       "2605  1790-NESIO           0.002876                 0\n",
       "2945  3987-KQDDU           0.732070                 1"
      ]
     },
     "execution_count": 54,
     "metadata": {},
     "output_type": "execute_result"
    }
   ],
   "source": [
    "customer_churn.head()\n"
   ]
  },
  {
   "cell_type": "code",
   "execution_count": 55,
   "id": "359a4324",
   "metadata": {},
   "outputs": [],
   "source": [
    "customer_churn.to_csv(r'Customer_Churn.csv', index = False)"
   ]
  },
  {
   "cell_type": "markdown",
   "id": "938b8137",
   "metadata": {},
   "source": [
    "# Conclusion"
   ]
  },
  {
   "cell_type": "markdown",
   "id": "0e8e09c2",
   "metadata": {},
   "source": [
    "Key take-aways:"
   ]
  },
  {
   "cell_type": "markdown",
   "id": "a0c0a7d9",
   "metadata": {},
   "source": [
    "I found that there was some significant churn associated with the first six months of acquiring Telco services."
   ]
  },
  {
   "cell_type": "markdown",
   "id": "d1e11d7a",
   "metadata": {},
   "source": [
    "There is significant proof that a good portion of Telco's chrun is coming from the fiber optic customers. We also know that indivudals with fiber optic and no internet security are churning at higher rates."
   ]
  },
  {
   "cell_type": "markdown",
   "id": "768199fa",
   "metadata": {},
   "source": [
    "With our Logestic Regression Model, we were able to validate at an accuracy of 80.37% while the baseline accuracy is 73.45%. This model is fit well compared to the other models."
   ]
  },
  {
   "cell_type": "markdown",
   "id": "a2ed0fb5",
   "metadata": {},
   "source": [
    "Recomendation: "
   ]
  },
  {
   "cell_type": "markdown",
   "id": "a7f5b65a",
   "metadata": {},
   "source": [
    "In order to address the churn of fiber optic customers that have no security, I would propose a bundle deal that provideds security along with the fiber optic services. Infering from the data, I can estimate that fiber optic customers are churning because they do not want to pay for extra security and/or are not aware of the service."
   ]
  },
  {
   "cell_type": "markdown",
   "id": "13ab57d4",
   "metadata": {},
   "source": [
    "If I had more time:\n",
    "\n",
    "I would take a look into tenure of the customers and indetify within the first six months what type of customers are chruning. I would have also liked to make more features from the data which could help boost my accuracy when fiting the data to models."
   ]
  },
  {
   "cell_type": "code",
   "execution_count": null,
   "id": "7c7b7906",
   "metadata": {},
   "outputs": [],
   "source": []
  }
 ],
 "metadata": {
  "kernelspec": {
   "display_name": "Python 3 (ipykernel)",
   "language": "python",
   "name": "python3"
  },
  "language_info": {
   "codemirror_mode": {
    "name": "ipython",
    "version": 3
   },
   "file_extension": ".py",
   "mimetype": "text/x-python",
   "name": "python",
   "nbconvert_exporter": "python",
   "pygments_lexer": "ipython3",
   "version": "3.9.13"
  }
 },
 "nbformat": 4,
 "nbformat_minor": 5
}
