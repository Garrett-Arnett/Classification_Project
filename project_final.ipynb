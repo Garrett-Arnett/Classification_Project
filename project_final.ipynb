{
 "cells": [
  {
   "cell_type": "markdown",
   "id": "92f88aa4",
   "metadata": {},
   "source": [
    "# Telco™ Project"
   ]
  },
  {
   "cell_type": "markdown",
   "id": "9fde6cb2",
   "metadata": {},
   "source": [
    "- Garrett Arnett"
   ]
  },
  {
   "cell_type": "markdown",
   "id": "e97cc722",
   "metadata": {},
   "source": [
    "Goals:\n",
    "\n",
    "    Find drivers of customer churn\n",
    "    Accurately predict customer churn at Telco™\n"
   ]
  },
  {
   "cell_type": "markdown",
   "id": "92dc7ebf",
   "metadata": {},
   "source": [
    "To Do:\n",
    "\n",
    "    Find 2 or more drivers of churn using statistical tests\n",
    "    Establish baseline accuracy\n",
    "    Outperform baseline accuracy using a classification model\n",
    "    Document insights from each stage of the data science pipeline"
   ]
  },
  {
   "cell_type": "markdown",
   "id": "b6bbcea0",
   "metadata": {},
   "source": [
    "Findings:\n",
    "\n",
    "   - In the search for significant factors of chrun within the Telco dataset, I found that fiber optic customers are churing at higher rates than any other internet service within the company.\n",
    "\n",
    "   - Through careful analysis I found that these customers make up roughly 44% of all customers within Telco. This needs to be addressed.\n",
    "\n",
    "   - Also I found that the mjaority of customers do not have online security in their Telco plan. While looking deeper I found that customers without internet security seem to chrun at higher rates."
   ]
  },
  {
   "cell_type": "markdown",
   "id": "1b19df1b",
   "metadata": {},
   "source": [
    "# Imports"
   ]
  },
  {
   "cell_type": "code",
   "execution_count": 1,
   "id": "48abb70f",
   "metadata": {},
   "outputs": [
    {
     "data": {
      "text/plain": [
       "<function sklearn.metrics._plot.confusion_matrix.plot_confusion_matrix(estimator, X, y_true, *, labels=None, sample_weight=None, normalize=None, display_labels=None, include_values=True, xticks_rotation='horizontal', values_format=None, cmap='viridis', ax=None, colorbar=True)>"
      ]
     },
     "execution_count": 1,
     "metadata": {},
     "output_type": "execute_result"
    }
   ],
   "source": [
    "import wrangle\n",
    "import explore\n",
    "import pandas as pd\n",
    "import numpy as np\n",
    "import seaborn as sns\n",
    "\n",
    "import matplotlib.pyplot as plt\n",
    "\n",
    "from pandas import DataFrame\n",
    "from scipy import stats\n",
    "\n",
    "from sklearn.preprocessing import LabelEncoder\n",
    "from sklearn.preprocessing import LabelEncoder\n",
    "from sklearn.model_selection import train_test_split\n",
    "from sklearn.linear_model import LogisticRegression\n",
    "from sklearn.metrics import classification_report\n",
    "from sklearn.metrics import confusion_matrix, plot_confusion_matrix\n",
    "from sklearn.impute import SimpleImputer\n",
    "\n",
    "plot_confusion_matrix\n"
   ]
  },
  {
   "cell_type": "markdown",
   "id": "1abb0995",
   "metadata": {},
   "source": [
    "# Acquire"
   ]
  },
  {
   "cell_type": "markdown",
   "id": "86b9c52e",
   "metadata": {},
   "source": [
    "- Create a fucntion that will acquire telco.csv\n",
    "- Take a look at its values (info, describe, and head)\n",
    "- Plot some histograms showing the distributions of variables of intrest"
   ]
  },
  {
   "cell_type": "code",
   "execution_count": 2,
   "id": "f006be9a",
   "metadata": {},
   "outputs": [],
   "source": [
    "# time to acquire our data\n",
    "df = wrangle.acquire_telco_data"
   ]
  },
  {
   "cell_type": "code",
   "execution_count": 3,
   "id": "9fd63235",
   "metadata": {},
   "outputs": [],
   "source": [
    "df = wrangle.acquire_telco_data(df)"
   ]
  },
  {
   "cell_type": "code",
   "execution_count": 4,
   "id": "fc344f6b",
   "metadata": {},
   "outputs": [
    {
     "data": {
      "text/html": [
       "<div>\n",
       "<style scoped>\n",
       "    .dataframe tbody tr th:only-of-type {\n",
       "        vertical-align: middle;\n",
       "    }\n",
       "\n",
       "    .dataframe tbody tr th {\n",
       "        vertical-align: top;\n",
       "    }\n",
       "\n",
       "    .dataframe thead th {\n",
       "        text-align: right;\n",
       "    }\n",
       "</style>\n",
       "<table border=\"1\" class=\"dataframe\">\n",
       "  <thead>\n",
       "    <tr style=\"text-align: right;\">\n",
       "      <th></th>\n",
       "      <th>customerID</th>\n",
       "      <th>gender</th>\n",
       "      <th>SeniorCitizen</th>\n",
       "      <th>Partner</th>\n",
       "      <th>Dependents</th>\n",
       "      <th>tenure</th>\n",
       "      <th>PhoneService</th>\n",
       "      <th>MultipleLines</th>\n",
       "      <th>InternetService</th>\n",
       "      <th>OnlineSecurity</th>\n",
       "      <th>...</th>\n",
       "      <th>DeviceProtection</th>\n",
       "      <th>TechSupport</th>\n",
       "      <th>StreamingTV</th>\n",
       "      <th>StreamingMovies</th>\n",
       "      <th>Contract</th>\n",
       "      <th>PaperlessBilling</th>\n",
       "      <th>PaymentMethod</th>\n",
       "      <th>MonthlyCharges</th>\n",
       "      <th>TotalCharges</th>\n",
       "      <th>Churn</th>\n",
       "    </tr>\n",
       "  </thead>\n",
       "  <tbody>\n",
       "    <tr>\n",
       "      <th>0</th>\n",
       "      <td>7590-VHVEG</td>\n",
       "      <td>Female</td>\n",
       "      <td>0</td>\n",
       "      <td>Yes</td>\n",
       "      <td>No</td>\n",
       "      <td>1</td>\n",
       "      <td>No</td>\n",
       "      <td>No phone service</td>\n",
       "      <td>DSL</td>\n",
       "      <td>No</td>\n",
       "      <td>...</td>\n",
       "      <td>No</td>\n",
       "      <td>No</td>\n",
       "      <td>No</td>\n",
       "      <td>No</td>\n",
       "      <td>Month-to-month</td>\n",
       "      <td>Yes</td>\n",
       "      <td>Electronic check</td>\n",
       "      <td>29.85</td>\n",
       "      <td>29.85</td>\n",
       "      <td>No</td>\n",
       "    </tr>\n",
       "    <tr>\n",
       "      <th>1</th>\n",
       "      <td>5575-GNVDE</td>\n",
       "      <td>Male</td>\n",
       "      <td>0</td>\n",
       "      <td>No</td>\n",
       "      <td>No</td>\n",
       "      <td>34</td>\n",
       "      <td>Yes</td>\n",
       "      <td>No</td>\n",
       "      <td>DSL</td>\n",
       "      <td>Yes</td>\n",
       "      <td>...</td>\n",
       "      <td>Yes</td>\n",
       "      <td>No</td>\n",
       "      <td>No</td>\n",
       "      <td>No</td>\n",
       "      <td>One year</td>\n",
       "      <td>No</td>\n",
       "      <td>Mailed check</td>\n",
       "      <td>56.95</td>\n",
       "      <td>1889.50</td>\n",
       "      <td>No</td>\n",
       "    </tr>\n",
       "    <tr>\n",
       "      <th>2</th>\n",
       "      <td>3668-QPYBK</td>\n",
       "      <td>Male</td>\n",
       "      <td>0</td>\n",
       "      <td>No</td>\n",
       "      <td>No</td>\n",
       "      <td>2</td>\n",
       "      <td>Yes</td>\n",
       "      <td>No</td>\n",
       "      <td>DSL</td>\n",
       "      <td>Yes</td>\n",
       "      <td>...</td>\n",
       "      <td>No</td>\n",
       "      <td>No</td>\n",
       "      <td>No</td>\n",
       "      <td>No</td>\n",
       "      <td>Month-to-month</td>\n",
       "      <td>Yes</td>\n",
       "      <td>Mailed check</td>\n",
       "      <td>53.85</td>\n",
       "      <td>108.15</td>\n",
       "      <td>Yes</td>\n",
       "    </tr>\n",
       "    <tr>\n",
       "      <th>3</th>\n",
       "      <td>7795-CFOCW</td>\n",
       "      <td>Male</td>\n",
       "      <td>0</td>\n",
       "      <td>No</td>\n",
       "      <td>No</td>\n",
       "      <td>45</td>\n",
       "      <td>No</td>\n",
       "      <td>No phone service</td>\n",
       "      <td>DSL</td>\n",
       "      <td>Yes</td>\n",
       "      <td>...</td>\n",
       "      <td>Yes</td>\n",
       "      <td>Yes</td>\n",
       "      <td>No</td>\n",
       "      <td>No</td>\n",
       "      <td>One year</td>\n",
       "      <td>No</td>\n",
       "      <td>Bank transfer (automatic)</td>\n",
       "      <td>42.30</td>\n",
       "      <td>1840.75</td>\n",
       "      <td>No</td>\n",
       "    </tr>\n",
       "    <tr>\n",
       "      <th>4</th>\n",
       "      <td>9237-HQITU</td>\n",
       "      <td>Female</td>\n",
       "      <td>0</td>\n",
       "      <td>No</td>\n",
       "      <td>No</td>\n",
       "      <td>2</td>\n",
       "      <td>Yes</td>\n",
       "      <td>No</td>\n",
       "      <td>Fiber optic</td>\n",
       "      <td>No</td>\n",
       "      <td>...</td>\n",
       "      <td>No</td>\n",
       "      <td>No</td>\n",
       "      <td>No</td>\n",
       "      <td>No</td>\n",
       "      <td>Month-to-month</td>\n",
       "      <td>Yes</td>\n",
       "      <td>Electronic check</td>\n",
       "      <td>70.70</td>\n",
       "      <td>151.65</td>\n",
       "      <td>Yes</td>\n",
       "    </tr>\n",
       "  </tbody>\n",
       "</table>\n",
       "<p>5 rows × 21 columns</p>\n",
       "</div>"
      ],
      "text/plain": [
       "   customerID  gender  SeniorCitizen Partner Dependents  tenure PhoneService  \\\n",
       "0  7590-VHVEG  Female              0     Yes         No       1           No   \n",
       "1  5575-GNVDE    Male              0      No         No      34          Yes   \n",
       "2  3668-QPYBK    Male              0      No         No       2          Yes   \n",
       "3  7795-CFOCW    Male              0      No         No      45           No   \n",
       "4  9237-HQITU  Female              0      No         No       2          Yes   \n",
       "\n",
       "      MultipleLines InternetService OnlineSecurity  ... DeviceProtection  \\\n",
       "0  No phone service             DSL             No  ...               No   \n",
       "1                No             DSL            Yes  ...              Yes   \n",
       "2                No             DSL            Yes  ...               No   \n",
       "3  No phone service             DSL            Yes  ...              Yes   \n",
       "4                No     Fiber optic             No  ...               No   \n",
       "\n",
       "  TechSupport StreamingTV StreamingMovies        Contract PaperlessBilling  \\\n",
       "0          No          No              No  Month-to-month              Yes   \n",
       "1          No          No              No        One year               No   \n",
       "2          No          No              No  Month-to-month              Yes   \n",
       "3         Yes          No              No        One year               No   \n",
       "4          No          No              No  Month-to-month              Yes   \n",
       "\n",
       "               PaymentMethod MonthlyCharges  TotalCharges  Churn  \n",
       "0           Electronic check          29.85         29.85     No  \n",
       "1               Mailed check          56.95       1889.50     No  \n",
       "2               Mailed check          53.85        108.15    Yes  \n",
       "3  Bank transfer (automatic)          42.30       1840.75     No  \n",
       "4           Electronic check          70.70        151.65    Yes  \n",
       "\n",
       "[5 rows x 21 columns]"
      ]
     },
     "execution_count": 4,
     "metadata": {},
     "output_type": "execute_result"
    }
   ],
   "source": [
    "df.head()"
   ]
  },
  {
   "cell_type": "markdown",
   "id": "d62b27b4",
   "metadata": {},
   "source": [
    "### Shape (rows x columns)"
   ]
  },
  {
   "cell_type": "code",
   "execution_count": 5,
   "id": "2f644db6",
   "metadata": {},
   "outputs": [
    {
     "data": {
      "text/plain": [
       "(7043, 21)"
      ]
     },
     "execution_count": 5,
     "metadata": {},
     "output_type": "execute_result"
    }
   ],
   "source": [
    "df.shape"
   ]
  },
  {
   "cell_type": "markdown",
   "id": "3b4b1234",
   "metadata": {},
   "source": [
    "### Values"
   ]
  },
  {
   "cell_type": "code",
   "execution_count": 6,
   "id": "9901c85a",
   "metadata": {},
   "outputs": [
    {
     "name": "stdout",
     "output_type": "stream",
     "text": [
      "<class 'pandas.core.frame.DataFrame'>\n",
      "RangeIndex: 7043 entries, 0 to 7042\n",
      "Data columns (total 21 columns):\n",
      " #   Column            Non-Null Count  Dtype  \n",
      "---  ------            --------------  -----  \n",
      " 0   customerID        7043 non-null   object \n",
      " 1   gender            7043 non-null   object \n",
      " 2   SeniorCitizen     7043 non-null   int64  \n",
      " 3   Partner           7043 non-null   object \n",
      " 4   Dependents        7043 non-null   object \n",
      " 5   tenure            7043 non-null   int64  \n",
      " 6   PhoneService      7043 non-null   object \n",
      " 7   MultipleLines     7043 non-null   object \n",
      " 8   InternetService   7043 non-null   object \n",
      " 9   OnlineSecurity    7043 non-null   object \n",
      " 10  OnlineBackup      7043 non-null   object \n",
      " 11  DeviceProtection  7043 non-null   object \n",
      " 12  TechSupport       7043 non-null   object \n",
      " 13  StreamingTV       7043 non-null   object \n",
      " 14  StreamingMovies   7043 non-null   object \n",
      " 15  Contract          7043 non-null   object \n",
      " 16  PaperlessBilling  7043 non-null   object \n",
      " 17  PaymentMethod     7043 non-null   object \n",
      " 18  MonthlyCharges    7043 non-null   float64\n",
      " 19  TotalCharges      7032 non-null   float64\n",
      " 20  Churn             7043 non-null   object \n",
      "dtypes: float64(2), int64(2), object(17)\n",
      "memory usage: 1.1+ MB\n"
     ]
    }
   ],
   "source": [
    " df.info()"
   ]
  },
  {
   "cell_type": "code",
   "execution_count": 7,
   "id": "086c437c",
   "metadata": {},
   "outputs": [
    {
     "data": {
      "text/html": [
       "<div>\n",
       "<style scoped>\n",
       "    .dataframe tbody tr th:only-of-type {\n",
       "        vertical-align: middle;\n",
       "    }\n",
       "\n",
       "    .dataframe tbody tr th {\n",
       "        vertical-align: top;\n",
       "    }\n",
       "\n",
       "    .dataframe thead th {\n",
       "        text-align: right;\n",
       "    }\n",
       "</style>\n",
       "<table border=\"1\" class=\"dataframe\">\n",
       "  <thead>\n",
       "    <tr style=\"text-align: right;\">\n",
       "      <th></th>\n",
       "      <th>SeniorCitizen</th>\n",
       "      <th>tenure</th>\n",
       "      <th>MonthlyCharges</th>\n",
       "      <th>TotalCharges</th>\n",
       "    </tr>\n",
       "  </thead>\n",
       "  <tbody>\n",
       "    <tr>\n",
       "      <th>count</th>\n",
       "      <td>7043.000000</td>\n",
       "      <td>7043.000000</td>\n",
       "      <td>7043.000000</td>\n",
       "      <td>7032.000000</td>\n",
       "    </tr>\n",
       "    <tr>\n",
       "      <th>mean</th>\n",
       "      <td>0.162147</td>\n",
       "      <td>32.371149</td>\n",
       "      <td>64.761692</td>\n",
       "      <td>2283.300441</td>\n",
       "    </tr>\n",
       "    <tr>\n",
       "      <th>std</th>\n",
       "      <td>0.368612</td>\n",
       "      <td>24.559481</td>\n",
       "      <td>30.090047</td>\n",
       "      <td>2266.771362</td>\n",
       "    </tr>\n",
       "    <tr>\n",
       "      <th>min</th>\n",
       "      <td>0.000000</td>\n",
       "      <td>0.000000</td>\n",
       "      <td>18.250000</td>\n",
       "      <td>18.800000</td>\n",
       "    </tr>\n",
       "    <tr>\n",
       "      <th>25%</th>\n",
       "      <td>0.000000</td>\n",
       "      <td>9.000000</td>\n",
       "      <td>35.500000</td>\n",
       "      <td>401.450000</td>\n",
       "    </tr>\n",
       "    <tr>\n",
       "      <th>50%</th>\n",
       "      <td>0.000000</td>\n",
       "      <td>29.000000</td>\n",
       "      <td>70.350000</td>\n",
       "      <td>1397.475000</td>\n",
       "    </tr>\n",
       "    <tr>\n",
       "      <th>75%</th>\n",
       "      <td>0.000000</td>\n",
       "      <td>55.000000</td>\n",
       "      <td>89.850000</td>\n",
       "      <td>3794.737500</td>\n",
       "    </tr>\n",
       "    <tr>\n",
       "      <th>max</th>\n",
       "      <td>1.000000</td>\n",
       "      <td>72.000000</td>\n",
       "      <td>118.750000</td>\n",
       "      <td>8684.800000</td>\n",
       "    </tr>\n",
       "  </tbody>\n",
       "</table>\n",
       "</div>"
      ],
      "text/plain": [
       "       SeniorCitizen       tenure  MonthlyCharges  TotalCharges\n",
       "count    7043.000000  7043.000000     7043.000000   7032.000000\n",
       "mean        0.162147    32.371149       64.761692   2283.300441\n",
       "std         0.368612    24.559481       30.090047   2266.771362\n",
       "min         0.000000     0.000000       18.250000     18.800000\n",
       "25%         0.000000     9.000000       35.500000    401.450000\n",
       "50%         0.000000    29.000000       70.350000   1397.475000\n",
       "75%         0.000000    55.000000       89.850000   3794.737500\n",
       "max         1.000000    72.000000      118.750000   8684.800000"
      ]
     },
     "execution_count": 7,
     "metadata": {},
     "output_type": "execute_result"
    }
   ],
   "source": [
    "df.describe()"
   ]
  },
  {
   "cell_type": "markdown",
   "id": "0bd31360",
   "metadata": {},
   "source": [
    "    "
   ]
  },
  {
   "cell_type": "markdown",
   "id": "dac2b2ed",
   "metadata": {},
   "source": [
    "# Exploring our Data\n"
   ]
  },
  {
   "cell_type": "code",
   "execution_count": 8,
   "id": "3e9630bb",
   "metadata": {},
   "outputs": [
    {
     "data": {
      "text/plain": [
       "Text(0.5, 0, 'Internet Type')"
      ]
     },
     "execution_count": 8,
     "metadata": {},
     "output_type": "execute_result"
    },
    {
     "data": {
      "image/png": "[encoded data removed]",
      "text/plain": [
       "<Figure size 640x480 with 1 Axes>"
      ]
     },
     "metadata": {},
     "output_type": "display_data"
    }
   ],
   "source": [
    "# Internet Service and Churn\n",
    "sns.histplot(data=df,\n",
    "            x=df.InternetService,\n",
    "            hue=df.Churn,\n",
    "            multiple='stack')\n",
    "\n",
    "plt.title(\"Internet Service vs Churn\")\n",
    "plt.xlabel('Internet Type')"
   ]
  },
  {
   "cell_type": "markdown",
   "id": "1cc46466",
   "metadata": {},
   "source": [
    "### Taking a look at Internet Service vs Churn. It looks like there may be a significant difference in chrurn with customers with fiber optic internet."
   ]
  },
  {
   "cell_type": "code",
   "execution_count": 9,
   "id": "55224de2",
   "metadata": {},
   "outputs": [
    {
     "data": {
      "text/plain": [
       "Text(0.5, 0, 'Online Security')"
      ]
     },
     "execution_count": 9,
     "metadata": {},
     "output_type": "execute_result"
    },
    {
     "data": {
      "image/png": "[encoded data removed]",
      "text/plain": [
       "<Figure size 640x480 with 1 Axes>"
      ]
     },
     "metadata": {},
     "output_type": "display_data"
    }
   ],
   "source": [
    "# Online Security and Churn\n",
    "sns.histplot(data=df,\n",
    "            x=df.OnlineSecurity,\n",
    "            hue=df.Churn,\n",
    "            multiple='stack')\n",
    "\n",
    "plt.title(\"Online Security vs Churn\")\n",
    "plt.xlabel('Online Security')"
   ]
  },
  {
   "cell_type": "markdown",
   "id": "196b130c",
   "metadata": {},
   "source": [
    "###  Taking a look at OnlineSecurity vs Churn. It looks like there may be a significant difference in chrurn with customers with fiber optic internet."
   ]
  },
  {
   "cell_type": "markdown",
   "id": "19a2b897",
   "metadata": {},
   "source": [
    "# Prepare"
   ]
  },
  {
   "cell_type": "markdown",
   "id": "ff0f1b60",
   "metadata": {},
   "source": [
    "- Removed columns that did not contain useful information\n",
    "- Renamed columns to promote readability\n",
    "- Checked for nulls in the data (there were none)\n",
    "- Checked that column data types were appropriate\n",
    "- Encoded categorical variables"
   ]
  },
  {
   "cell_type": "code",
   "execution_count": 10,
   "id": "337b7cc2",
   "metadata": {},
   "outputs": [],
   "source": [
    "df = wrangle.prep_telco_data(df)"
   ]
  },
  {
   "cell_type": "code",
   "execution_count": 11,
   "id": "34b499d8",
   "metadata": {},
   "outputs": [
    {
     "data": {
      "text/html": [
       "<div>\n",
       "<style scoped>\n",
       "    .dataframe tbody tr th:only-of-type {\n",
       "        vertical-align: middle;\n",
       "    }\n",
       "\n",
       "    .dataframe tbody tr th {\n",
       "        vertical-align: top;\n",
       "    }\n",
       "\n",
       "    .dataframe thead th {\n",
       "        text-align: right;\n",
       "    }\n",
       "</style>\n",
       "<table border=\"1\" class=\"dataframe\">\n",
       "  <thead>\n",
       "    <tr style=\"text-align: right;\">\n",
       "      <th></th>\n",
       "      <th>customer_id</th>\n",
       "      <th>senior_citizen</th>\n",
       "      <th>tenure</th>\n",
       "      <th>monthly_charges</th>\n",
       "      <th>total_charges</th>\n",
       "      <th>internet_service_Fiber optic</th>\n",
       "      <th>internet_service_No</th>\n",
       "      <th>gender_Male</th>\n",
       "      <th>payment_method_Credit card (automatic)</th>\n",
       "      <th>payment_method_Electronic check</th>\n",
       "      <th>...</th>\n",
       "      <th>device_protection_No internet service</th>\n",
       "      <th>device_protection_Yes</th>\n",
       "      <th>Churn_Yes</th>\n",
       "      <th>tech_support_No internet service</th>\n",
       "      <th>tech_support_Yes</th>\n",
       "      <th>streaming_movies_No internet service</th>\n",
       "      <th>streaming_movies_Yes</th>\n",
       "      <th>streaming_tv_No internet service</th>\n",
       "      <th>streaming_tv_Yes</th>\n",
       "      <th>paperless_billing_Yes</th>\n",
       "    </tr>\n",
       "  </thead>\n",
       "  <tbody>\n",
       "    <tr>\n",
       "      <th>0</th>\n",
       "      <td>7590-VHVEG</td>\n",
       "      <td>0</td>\n",
       "      <td>1</td>\n",
       "      <td>29.85</td>\n",
       "      <td>29.85</td>\n",
       "      <td>0</td>\n",
       "      <td>0</td>\n",
       "      <td>0</td>\n",
       "      <td>0</td>\n",
       "      <td>1</td>\n",
       "      <td>...</td>\n",
       "      <td>0</td>\n",
       "      <td>0</td>\n",
       "      <td>0</td>\n",
       "      <td>0</td>\n",
       "      <td>0</td>\n",
       "      <td>0</td>\n",
       "      <td>0</td>\n",
       "      <td>0</td>\n",
       "      <td>0</td>\n",
       "      <td>1</td>\n",
       "    </tr>\n",
       "    <tr>\n",
       "      <th>1</th>\n",
       "      <td>5575-GNVDE</td>\n",
       "      <td>0</td>\n",
       "      <td>34</td>\n",
       "      <td>56.95</td>\n",
       "      <td>1889.50</td>\n",
       "      <td>0</td>\n",
       "      <td>0</td>\n",
       "      <td>1</td>\n",
       "      <td>0</td>\n",
       "      <td>0</td>\n",
       "      <td>...</td>\n",
       "      <td>0</td>\n",
       "      <td>1</td>\n",
       "      <td>0</td>\n",
       "      <td>0</td>\n",
       "      <td>0</td>\n",
       "      <td>0</td>\n",
       "      <td>0</td>\n",
       "      <td>0</td>\n",
       "      <td>0</td>\n",
       "      <td>0</td>\n",
       "    </tr>\n",
       "    <tr>\n",
       "      <th>2</th>\n",
       "      <td>3668-QPYBK</td>\n",
       "      <td>0</td>\n",
       "      <td>2</td>\n",
       "      <td>53.85</td>\n",
       "      <td>108.15</td>\n",
       "      <td>0</td>\n",
       "      <td>0</td>\n",
       "      <td>1</td>\n",
       "      <td>0</td>\n",
       "      <td>0</td>\n",
       "      <td>...</td>\n",
       "      <td>0</td>\n",
       "      <td>0</td>\n",
       "      <td>1</td>\n",
       "      <td>0</td>\n",
       "      <td>0</td>\n",
       "      <td>0</td>\n",
       "      <td>0</td>\n",
       "      <td>0</td>\n",
       "      <td>0</td>\n",
       "      <td>1</td>\n",
       "    </tr>\n",
       "    <tr>\n",
       "      <th>3</th>\n",
       "      <td>7795-CFOCW</td>\n",
       "      <td>0</td>\n",
       "      <td>45</td>\n",
       "      <td>42.30</td>\n",
       "      <td>1840.75</td>\n",
       "      <td>0</td>\n",
       "      <td>0</td>\n",
       "      <td>1</td>\n",
       "      <td>0</td>\n",
       "      <td>0</td>\n",
       "      <td>...</td>\n",
       "      <td>0</td>\n",
       "      <td>1</td>\n",
       "      <td>0</td>\n",
       "      <td>0</td>\n",
       "      <td>1</td>\n",
       "      <td>0</td>\n",
       "      <td>0</td>\n",
       "      <td>0</td>\n",
       "      <td>0</td>\n",
       "      <td>0</td>\n",
       "    </tr>\n",
       "    <tr>\n",
       "      <th>4</th>\n",
       "      <td>9237-HQITU</td>\n",
       "      <td>0</td>\n",
       "      <td>2</td>\n",
       "      <td>70.70</td>\n",
       "      <td>151.65</td>\n",
       "      <td>1</td>\n",
       "      <td>0</td>\n",
       "      <td>0</td>\n",
       "      <td>0</td>\n",
       "      <td>1</td>\n",
       "      <td>...</td>\n",
       "      <td>0</td>\n",
       "      <td>0</td>\n",
       "      <td>1</td>\n",
       "      <td>0</td>\n",
       "      <td>0</td>\n",
       "      <td>0</td>\n",
       "      <td>0</td>\n",
       "      <td>0</td>\n",
       "      <td>0</td>\n",
       "      <td>1</td>\n",
       "    </tr>\n",
       "  </tbody>\n",
       "</table>\n",
       "<p>5 rows × 32 columns</p>\n",
       "</div>"
      ],
      "text/plain": [
       "  customer_id  senior_citizen  tenure  monthly_charges  total_charges  \\\n",
       "0  7590-VHVEG               0       1            29.85          29.85   \n",
       "1  5575-GNVDE               0      34            56.95        1889.50   \n",
       "2  3668-QPYBK               0       2            53.85         108.15   \n",
       "3  7795-CFOCW               0      45            42.30        1840.75   \n",
       "4  9237-HQITU               0       2            70.70         151.65   \n",
       "\n",
       "   internet_service_Fiber optic  internet_service_No  gender_Male  \\\n",
       "0                             0                    0            0   \n",
       "1                             0                    0            1   \n",
       "2                             0                    0            1   \n",
       "3                             0                    0            1   \n",
       "4                             1                    0            0   \n",
       "\n",
       "   payment_method_Credit card (automatic)  payment_method_Electronic check  \\\n",
       "0                                       0                                1   \n",
       "1                                       0                                0   \n",
       "2                                       0                                0   \n",
       "3                                       0                                0   \n",
       "4                                       0                                1   \n",
       "\n",
       "   ...  device_protection_No internet service  device_protection_Yes  \\\n",
       "0  ...                                      0                      0   \n",
       "1  ...                                      0                      1   \n",
       "2  ...                                      0                      0   \n",
       "3  ...                                      0                      1   \n",
       "4  ...                                      0                      0   \n",
       "\n",
       "   Churn_Yes  tech_support_No internet service  tech_support_Yes  \\\n",
       "0          0                                 0                 0   \n",
       "1          0                                 0                 0   \n",
       "2          1                                 0                 0   \n",
       "3          0                                 0                 1   \n",
       "4          1                                 0                 0   \n",
       "\n",
       "   streaming_movies_No internet service  streaming_movies_Yes  \\\n",
       "0                                     0                     0   \n",
       "1                                     0                     0   \n",
       "2                                     0                     0   \n",
       "3                                     0                     0   \n",
       "4                                     0                     0   \n",
       "\n",
       "   streaming_tv_No internet service  streaming_tv_Yes  paperless_billing_Yes  \n",
       "0                                 0                 0                      1  \n",
       "1                                 0                 0                      0  \n",
       "2                                 0                 0                      1  \n",
       "3                                 0                 0                      0  \n",
       "4                                 0                 0                      1  \n",
       "\n",
       "[5 rows x 32 columns]"
      ]
     },
     "execution_count": 11,
     "metadata": {},
     "output_type": "execute_result"
    }
   ],
   "source": [
    "df.head()"
   ]
  },
  {
   "cell_type": "markdown",
   "id": "755fb4f8",
   "metadata": {},
   "source": [
    "# Summary of out data"
   ]
  },
  {
   "cell_type": "code",
   "execution_count": 12,
   "id": "7d997968",
   "metadata": {},
   "outputs": [
    {
     "data": {
      "text/html": [
       "<div>\n",
       "<style scoped>\n",
       "    .dataframe tbody tr th:only-of-type {\n",
       "        vertical-align: middle;\n",
       "    }\n",
       "\n",
       "    .dataframe tbody tr th {\n",
       "        vertical-align: top;\n",
       "    }\n",
       "\n",
       "    .dataframe thead th {\n",
       "        text-align: right;\n",
       "    }\n",
       "</style>\n",
       "<table border=\"1\" class=\"dataframe\">\n",
       "  <thead>\n",
       "    <tr style=\"text-align: right;\">\n",
       "      <th></th>\n",
       "      <th>senior_citizen</th>\n",
       "      <th>tenure</th>\n",
       "      <th>monthly_charges</th>\n",
       "      <th>total_charges</th>\n",
       "      <th>internet_service_Fiber optic</th>\n",
       "      <th>internet_service_No</th>\n",
       "      <th>gender_Male</th>\n",
       "      <th>payment_method_Credit card (automatic)</th>\n",
       "      <th>payment_method_Electronic check</th>\n",
       "      <th>payment_method_Mailed check</th>\n",
       "      <th>...</th>\n",
       "      <th>device_protection_No internet service</th>\n",
       "      <th>device_protection_Yes</th>\n",
       "      <th>Churn_Yes</th>\n",
       "      <th>tech_support_No internet service</th>\n",
       "      <th>tech_support_Yes</th>\n",
       "      <th>streaming_movies_No internet service</th>\n",
       "      <th>streaming_movies_Yes</th>\n",
       "      <th>streaming_tv_No internet service</th>\n",
       "      <th>streaming_tv_Yes</th>\n",
       "      <th>paperless_billing_Yes</th>\n",
       "    </tr>\n",
       "  </thead>\n",
       "  <tbody>\n",
       "    <tr>\n",
       "      <th>count</th>\n",
       "      <td>7043.000000</td>\n",
       "      <td>7043.000000</td>\n",
       "      <td>7043.000000</td>\n",
       "      <td>7043.000000</td>\n",
       "      <td>7043.000000</td>\n",
       "      <td>7043.000000</td>\n",
       "      <td>7043.000000</td>\n",
       "      <td>7043.000000</td>\n",
       "      <td>7043.000000</td>\n",
       "      <td>7043.000000</td>\n",
       "      <td>...</td>\n",
       "      <td>7043.000000</td>\n",
       "      <td>7043.000000</td>\n",
       "      <td>7043.000000</td>\n",
       "      <td>7043.000000</td>\n",
       "      <td>7043.000000</td>\n",
       "      <td>7043.000000</td>\n",
       "      <td>7043.000000</td>\n",
       "      <td>7043.000000</td>\n",
       "      <td>7043.000000</td>\n",
       "      <td>7043.000000</td>\n",
       "    </tr>\n",
       "    <tr>\n",
       "      <th>mean</th>\n",
       "      <td>0.162147</td>\n",
       "      <td>32.371149</td>\n",
       "      <td>64.761692</td>\n",
       "      <td>2283.300441</td>\n",
       "      <td>0.439585</td>\n",
       "      <td>0.216669</td>\n",
       "      <td>0.504756</td>\n",
       "      <td>0.216101</td>\n",
       "      <td>0.335794</td>\n",
       "      <td>0.228880</td>\n",
       "      <td>...</td>\n",
       "      <td>0.216669</td>\n",
       "      <td>0.343888</td>\n",
       "      <td>0.265370</td>\n",
       "      <td>0.216669</td>\n",
       "      <td>0.290217</td>\n",
       "      <td>0.216669</td>\n",
       "      <td>0.387903</td>\n",
       "      <td>0.216669</td>\n",
       "      <td>0.384353</td>\n",
       "      <td>0.592219</td>\n",
       "    </tr>\n",
       "    <tr>\n",
       "      <th>std</th>\n",
       "      <td>0.368612</td>\n",
       "      <td>24.559481</td>\n",
       "      <td>30.090047</td>\n",
       "      <td>2265.000258</td>\n",
       "      <td>0.496372</td>\n",
       "      <td>0.412004</td>\n",
       "      <td>0.500013</td>\n",
       "      <td>0.411613</td>\n",
       "      <td>0.472301</td>\n",
       "      <td>0.420141</td>\n",
       "      <td>...</td>\n",
       "      <td>0.412004</td>\n",
       "      <td>0.475038</td>\n",
       "      <td>0.441561</td>\n",
       "      <td>0.412004</td>\n",
       "      <td>0.453895</td>\n",
       "      <td>0.412004</td>\n",
       "      <td>0.487307</td>\n",
       "      <td>0.412004</td>\n",
       "      <td>0.486477</td>\n",
       "      <td>0.491457</td>\n",
       "    </tr>\n",
       "    <tr>\n",
       "      <th>min</th>\n",
       "      <td>0.000000</td>\n",
       "      <td>0.000000</td>\n",
       "      <td>18.250000</td>\n",
       "      <td>18.800000</td>\n",
       "      <td>0.000000</td>\n",
       "      <td>0.000000</td>\n",
       "      <td>0.000000</td>\n",
       "      <td>0.000000</td>\n",
       "      <td>0.000000</td>\n",
       "      <td>0.000000</td>\n",
       "      <td>...</td>\n",
       "      <td>0.000000</td>\n",
       "      <td>0.000000</td>\n",
       "      <td>0.000000</td>\n",
       "      <td>0.000000</td>\n",
       "      <td>0.000000</td>\n",
       "      <td>0.000000</td>\n",
       "      <td>0.000000</td>\n",
       "      <td>0.000000</td>\n",
       "      <td>0.000000</td>\n",
       "      <td>0.000000</td>\n",
       "    </tr>\n",
       "    <tr>\n",
       "      <th>25%</th>\n",
       "      <td>0.000000</td>\n",
       "      <td>9.000000</td>\n",
       "      <td>35.500000</td>\n",
       "      <td>402.225000</td>\n",
       "      <td>0.000000</td>\n",
       "      <td>0.000000</td>\n",
       "      <td>0.000000</td>\n",
       "      <td>0.000000</td>\n",
       "      <td>0.000000</td>\n",
       "      <td>0.000000</td>\n",
       "      <td>...</td>\n",
       "      <td>0.000000</td>\n",
       "      <td>0.000000</td>\n",
       "      <td>0.000000</td>\n",
       "      <td>0.000000</td>\n",
       "      <td>0.000000</td>\n",
       "      <td>0.000000</td>\n",
       "      <td>0.000000</td>\n",
       "      <td>0.000000</td>\n",
       "      <td>0.000000</td>\n",
       "      <td>0.000000</td>\n",
       "    </tr>\n",
       "    <tr>\n",
       "      <th>50%</th>\n",
       "      <td>0.000000</td>\n",
       "      <td>29.000000</td>\n",
       "      <td>70.350000</td>\n",
       "      <td>1400.550000</td>\n",
       "      <td>0.000000</td>\n",
       "      <td>0.000000</td>\n",
       "      <td>1.000000</td>\n",
       "      <td>0.000000</td>\n",
       "      <td>0.000000</td>\n",
       "      <td>0.000000</td>\n",
       "      <td>...</td>\n",
       "      <td>0.000000</td>\n",
       "      <td>0.000000</td>\n",
       "      <td>0.000000</td>\n",
       "      <td>0.000000</td>\n",
       "      <td>0.000000</td>\n",
       "      <td>0.000000</td>\n",
       "      <td>0.000000</td>\n",
       "      <td>0.000000</td>\n",
       "      <td>0.000000</td>\n",
       "      <td>1.000000</td>\n",
       "    </tr>\n",
       "    <tr>\n",
       "      <th>75%</th>\n",
       "      <td>0.000000</td>\n",
       "      <td>55.000000</td>\n",
       "      <td>89.850000</td>\n",
       "      <td>3786.600000</td>\n",
       "      <td>1.000000</td>\n",
       "      <td>0.000000</td>\n",
       "      <td>1.000000</td>\n",
       "      <td>0.000000</td>\n",
       "      <td>1.000000</td>\n",
       "      <td>0.000000</td>\n",
       "      <td>...</td>\n",
       "      <td>0.000000</td>\n",
       "      <td>1.000000</td>\n",
       "      <td>1.000000</td>\n",
       "      <td>0.000000</td>\n",
       "      <td>1.000000</td>\n",
       "      <td>0.000000</td>\n",
       "      <td>1.000000</td>\n",
       "      <td>0.000000</td>\n",
       "      <td>1.000000</td>\n",
       "      <td>1.000000</td>\n",
       "    </tr>\n",
       "    <tr>\n",
       "      <th>max</th>\n",
       "      <td>1.000000</td>\n",
       "      <td>72.000000</td>\n",
       "      <td>118.750000</td>\n",
       "      <td>8684.800000</td>\n",
       "      <td>1.000000</td>\n",
       "      <td>1.000000</td>\n",
       "      <td>1.000000</td>\n",
       "      <td>1.000000</td>\n",
       "      <td>1.000000</td>\n",
       "      <td>1.000000</td>\n",
       "      <td>...</td>\n",
       "      <td>1.000000</td>\n",
       "      <td>1.000000</td>\n",
       "      <td>1.000000</td>\n",
       "      <td>1.000000</td>\n",
       "      <td>1.000000</td>\n",
       "      <td>1.000000</td>\n",
       "      <td>1.000000</td>\n",
       "      <td>1.000000</td>\n",
       "      <td>1.000000</td>\n",
       "      <td>1.000000</td>\n",
       "    </tr>\n",
       "  </tbody>\n",
       "</table>\n",
       "<p>8 rows × 31 columns</p>\n",
       "</div>"
      ],
      "text/plain": [
       "       senior_citizen       tenure  monthly_charges  total_charges  \\\n",
       "count     7043.000000  7043.000000      7043.000000    7043.000000   \n",
       "mean         0.162147    32.371149        64.761692    2283.300441   \n",
       "std          0.368612    24.559481        30.090047    2265.000258   \n",
       "min          0.000000     0.000000        18.250000      18.800000   \n",
       "25%          0.000000     9.000000        35.500000     402.225000   \n",
       "50%          0.000000    29.000000        70.350000    1400.550000   \n",
       "75%          0.000000    55.000000        89.850000    3786.600000   \n",
       "max          1.000000    72.000000       118.750000    8684.800000   \n",
       "\n",
       "       internet_service_Fiber optic  internet_service_No  gender_Male  \\\n",
       "count                   7043.000000          7043.000000  7043.000000   \n",
       "mean                       0.439585             0.216669     0.504756   \n",
       "std                        0.496372             0.412004     0.500013   \n",
       "min                        0.000000             0.000000     0.000000   \n",
       "25%                        0.000000             0.000000     0.000000   \n",
       "50%                        0.000000             0.000000     1.000000   \n",
       "75%                        1.000000             0.000000     1.000000   \n",
       "max                        1.000000             1.000000     1.000000   \n",
       "\n",
       "       payment_method_Credit card (automatic)  \\\n",
       "count                             7043.000000   \n",
       "mean                                 0.216101   \n",
       "std                                  0.411613   \n",
       "min                                  0.000000   \n",
       "25%                                  0.000000   \n",
       "50%                                  0.000000   \n",
       "75%                                  0.000000   \n",
       "max                                  1.000000   \n",
       "\n",
       "       payment_method_Electronic check  payment_method_Mailed check  ...  \\\n",
       "count                      7043.000000                  7043.000000  ...   \n",
       "mean                          0.335794                     0.228880  ...   \n",
       "std                           0.472301                     0.420141  ...   \n",
       "min                           0.000000                     0.000000  ...   \n",
       "25%                           0.000000                     0.000000  ...   \n",
       "50%                           0.000000                     0.000000  ...   \n",
       "75%                           1.000000                     0.000000  ...   \n",
       "max                           1.000000                     1.000000  ...   \n",
       "\n",
       "       device_protection_No internet service  device_protection_Yes  \\\n",
       "count                            7043.000000            7043.000000   \n",
       "mean                                0.216669               0.343888   \n",
       "std                                 0.412004               0.475038   \n",
       "min                                 0.000000               0.000000   \n",
       "25%                                 0.000000               0.000000   \n",
       "50%                                 0.000000               0.000000   \n",
       "75%                                 0.000000               1.000000   \n",
       "max                                 1.000000               1.000000   \n",
       "\n",
       "         Churn_Yes  tech_support_No internet service  tech_support_Yes  \\\n",
       "count  7043.000000                       7043.000000       7043.000000   \n",
       "mean      0.265370                          0.216669          0.290217   \n",
       "std       0.441561                          0.412004          0.453895   \n",
       "min       0.000000                          0.000000          0.000000   \n",
       "25%       0.000000                          0.000000          0.000000   \n",
       "50%       0.000000                          0.000000          0.000000   \n",
       "75%       1.000000                          0.000000          1.000000   \n",
       "max       1.000000                          1.000000          1.000000   \n",
       "\n",
       "       streaming_movies_No internet service  streaming_movies_Yes  \\\n",
       "count                           7043.000000           7043.000000   \n",
       "mean                               0.216669              0.387903   \n",
       "std                                0.412004              0.487307   \n",
       "min                                0.000000              0.000000   \n",
       "25%                                0.000000              0.000000   \n",
       "50%                                0.000000              0.000000   \n",
       "75%                                0.000000              1.000000   \n",
       "max                                1.000000              1.000000   \n",
       "\n",
       "       streaming_tv_No internet service  streaming_tv_Yes  \\\n",
       "count                       7043.000000       7043.000000   \n",
       "mean                           0.216669          0.384353   \n",
       "std                            0.412004          0.486477   \n",
       "min                            0.000000          0.000000   \n",
       "25%                            0.000000          0.000000   \n",
       "50%                            0.000000          0.000000   \n",
       "75%                            0.000000          1.000000   \n",
       "max                            1.000000          1.000000   \n",
       "\n",
       "       paperless_billing_Yes  \n",
       "count            7043.000000  \n",
       "mean                0.592219  \n",
       "std                 0.491457  \n",
       "min                 0.000000  \n",
       "25%                 0.000000  \n",
       "50%                 1.000000  \n",
       "75%                 1.000000  \n",
       "max                 1.000000  \n",
       "\n",
       "[8 rows x 31 columns]"
      ]
     },
     "execution_count": 12,
     "metadata": {},
     "output_type": "execute_result"
    }
   ],
   "source": [
    "df.describe()"
   ]
  },
  {
   "cell_type": "markdown",
   "id": "09ab3465",
   "metadata": {},
   "source": [
    "    "
   ]
  },
  {
   "cell_type": "markdown",
   "id": "92e24bcb",
   "metadata": {},
   "source": [
    "   "
   ]
  },
  {
   "cell_type": "markdown",
   "id": "9be91a13",
   "metadata": {},
   "source": [
    "# Training, Testing, Splitting"
   ]
  },
  {
   "cell_type": "markdown",
   "id": "5d51ea3a",
   "metadata": {},
   "source": [
    "- Split data into train, validate and test (approx. 56/24/20), stratifying on 'upset'\n"
   ]
  },
  {
   "cell_type": "markdown",
   "id": "869718c2",
   "metadata": {},
   "source": [
    " "
   ]
  },
  {
   "cell_type": "markdown",
   "id": "c50a1709",
   "metadata": {},
   "source": [
    " "
   ]
  },
  {
   "cell_type": "markdown",
   "id": "d29195ea",
   "metadata": {},
   "source": [
    " "
   ]
  },
  {
   "cell_type": "code",
   "execution_count": 13,
   "id": "30ac0ab5",
   "metadata": {},
   "outputs": [],
   "source": [
    "# Creating Train, test, split\n",
    "train, validate, test = wrangle.train_validate_test_split(df, target = 'Churn_Yes', seed=1349)\n",
    "train = train.drop(columns='customer_id')\n",
    "validate = validate.drop(columns='customer_id')\n",
    "test = test.drop(columns='customer_id')\n",
    "X_train, y_train = wrangle.data_target_split(train)\n",
    "# For my x, I want to drop columns that are 'Churn_Yes'\n",
    "X_train = train.drop(columns=['Churn_Yes'])\n",
    "y_train = train.Churn_Yes\n",
    "\n",
    "X_validate = validate.drop(columns=['Churn_Yes'])\n",
    "y_validate = validate.Churn_Yes\n",
    "\n",
    "X_test = test.drop(columns=['Churn_Yes'])\n",
    "y_test = test.Churn_Yes\n",
    "df.Churn_Yes.value_counts() # (We will use 'No')\n",
    "\n",
    "# setting my alpha\n",
    "confidence_interval = 0.95\n",
    "alpha = 1 - confidence_interval\n"
   ]
  },
  {
   "cell_type": "markdown",
   "id": "e7819578",
   "metadata": {},
   "source": [
    "   "
   ]
  },
  {
   "cell_type": "markdown",
   "id": "358d0b9b",
   "metadata": {},
   "source": [
    "   "
   ]
  },
  {
   "cell_type": "markdown",
   "id": "c398f18f",
   "metadata": {},
   "source": [
    "# Data Dictionary"
   ]
  },
  {
   "cell_type": "markdown",
   "id": "8297d446",
   "metadata": {},
   "source": [
    "| Term | Definition |\n",
    "| --- | --- |\n",
    "| KNN | K-nearest Neighbors Test |\n",
    "| LogReg | Lgistic Regression Test |\n",
    "| Rforest | Random Forest Test |\n",
    "| Forest | Decision Tree Test |"
   ]
  },
  {
   "cell_type": "markdown",
   "id": "c520fa76",
   "metadata": {},
   "source": [
    "# Hypothesis Testing"
   ]
  },
  {
   "cell_type": "markdown",
   "id": "ecd9a53a",
   "metadata": {},
   "source": [
    "### - Are customers more likely to churn with fiber optic internet service?\n"
   ]
  },
  {
   "cell_type": "markdown",
   "id": "b8ae9311",
   "metadata": {},
   "source": [
    "#### H$_0$: There is no diffrence in churn between customers with fiber optice internet services and those whithout.\n",
    "\n",
    "#### H$_a$: There is a significant diffrence in churn between the customers that have fiber optic."
   ]
  },
  {
   "cell_type": "code",
   "execution_count": 14,
   "id": "659f0dd6",
   "metadata": {},
   "outputs": [],
   "source": [
    "fiberoptic = np.where((X_train['internet_service_Fiber optic']==1) & (X_train.internet_service_No==0), 1, 0)"
   ]
  },
  {
   "cell_type": "code",
   "execution_count": 15,
   "id": "aaf229fd",
   "metadata": {},
   "outputs": [],
   "source": [
    "outcomes_1 = pd.crosstab(fiberoptic, train.Churn_Yes)\n",
    "outcomes_1 = outcomes_1.rename(index={0:'No_fiber_optic', 1: 'Fiber_optic'}, columns={0:'No_Churn', 1:'Churn'})"
   ]
  },
  {
   "cell_type": "code",
   "execution_count": 16,
   "id": "74e150d1",
   "metadata": {},
   "outputs": [
    {
     "data": {
      "text/html": [
       "<div>\n",
       "<style scoped>\n",
       "    .dataframe tbody tr th:only-of-type {\n",
       "        vertical-align: middle;\n",
       "    }\n",
       "\n",
       "    .dataframe tbody tr th {\n",
       "        vertical-align: top;\n",
       "    }\n",
       "\n",
       "    .dataframe thead th {\n",
       "        text-align: right;\n",
       "    }\n",
       "</style>\n",
       "<table border=\"1\" class=\"dataframe\">\n",
       "  <thead>\n",
       "    <tr style=\"text-align: right;\">\n",
       "      <th>Churn_Yes</th>\n",
       "      <th>No_Churn</th>\n",
       "      <th>Churn</th>\n",
       "    </tr>\n",
       "    <tr>\n",
       "      <th>row_0</th>\n",
       "      <th></th>\n",
       "      <th></th>\n",
       "    </tr>\n",
       "  </thead>\n",
       "  <tbody>\n",
       "    <tr>\n",
       "      <th>No_fiber_optic</th>\n",
       "      <td>1893</td>\n",
       "      <td>308</td>\n",
       "    </tr>\n",
       "    <tr>\n",
       "      <th>Fiber_optic</th>\n",
       "      <td>1004</td>\n",
       "      <td>738</td>\n",
       "    </tr>\n",
       "  </tbody>\n",
       "</table>\n",
       "</div>"
      ],
      "text/plain": [
       "Churn_Yes       No_Churn  Churn\n",
       "row_0                          \n",
       "No_fiber_optic      1893    308\n",
       "Fiber_optic         1004    738"
      ]
     },
     "execution_count": 16,
     "metadata": {},
     "output_type": "execute_result"
    }
   ],
   "source": [
    "outcomes_1"
   ]
  },
  {
   "cell_type": "code",
   "execution_count": 17,
   "id": "b6612790",
   "metadata": {},
   "outputs": [
    {
     "data": {
      "text/plain": [
       "0    2201\n",
       "1    1742\n",
       "Name: internet_service_Fiber optic, dtype: int64"
      ]
     },
     "execution_count": 17,
     "metadata": {},
     "output_type": "execute_result"
    }
   ],
   "source": [
    "train['internet_service_Fiber optic'].value_counts()"
   ]
  },
  {
   "cell_type": "raw",
   "id": "5c7a3705",
   "metadata": {},
   "source": [
    "chi2, p, degf, expected = stats.chi2_contingency(outcomes_1)\n",
    "\n",
    "print((\"Chi2: {:.2f}\" \n",
    "      \"\\nP-Value: {:.2f}\\nalpha: {:.2f}\\n\").format(chi2, p, alpha))\n",
    "\n",
    "if p < alpha:\n",
    "    print(\"P-Value is less than alpha:\")\n",
    "    print('Reject HO that states there is no diffrence in churn between the customers that have fiber optic.')\n",
    "else:\n",
    "    print('Fail to reject HO. There is no diffrence in churn between customers with fiber optice internet services and those whithout.')"
   ]
  },
  {
   "cell_type": "markdown",
   "id": "ea6e22e4",
   "metadata": {},
   "source": [
    " - There is a significant diffrence in churn between the customers that have fiber optic.')\n"
   ]
  },
  {
   "cell_type": "markdown",
   "id": "0b10aecb",
   "metadata": {},
   "source": [
    "### - Are customers that have no online security and fiber optic and have more likly to churn?"
   ]
  },
  {
   "cell_type": "markdown",
   "id": "ef22e698",
   "metadata": {},
   "source": [
    "#### H$_0$: There is no diffrence in churn dependening on if the customer has online security and has fiber optic.\n",
    "    \n",
    "#### H$_a$: There is a significant diffrence in churn dependening on if the customer has online security and has fiber optic."
   ]
  },
  {
   "cell_type": "code",
   "execution_count": 18,
   "id": "cfeacfc3",
   "metadata": {},
   "outputs": [],
   "source": [
    "fiber_security = np.where((X_train['online_security_Yes']==0) & (X_train['internet_service_Fiber optic']==1), 1, 0)"
   ]
  },
  {
   "cell_type": "code",
   "execution_count": 19,
   "id": "ec6b16f5",
   "metadata": {},
   "outputs": [],
   "source": [
    "outcomes_2 = pd.crosstab(fiber_security, train.Churn_Yes)\n",
    "outcomes_2 = outcomes_2.rename(index={0:'fiber_no_security', 1: 'fiber_and_security'}, columns={0:'No_Churn', 1:'Churn'})"
   ]
  },
  {
   "cell_type": "code",
   "execution_count": 20,
   "id": "6184dc84",
   "metadata": {},
   "outputs": [
    {
     "data": {
      "text/html": [
       "<div>\n",
       "<style scoped>\n",
       "    .dataframe tbody tr th:only-of-type {\n",
       "        vertical-align: middle;\n",
       "    }\n",
       "\n",
       "    .dataframe tbody tr th {\n",
       "        vertical-align: top;\n",
       "    }\n",
       "\n",
       "    .dataframe thead th {\n",
       "        text-align: right;\n",
       "    }\n",
       "</style>\n",
       "<table border=\"1\" class=\"dataframe\">\n",
       "  <thead>\n",
       "    <tr style=\"text-align: right;\">\n",
       "      <th>Churn_Yes</th>\n",
       "      <th>No_Churn</th>\n",
       "      <th>Churn</th>\n",
       "    </tr>\n",
       "    <tr>\n",
       "      <th>row_0</th>\n",
       "      <th></th>\n",
       "      <th></th>\n",
       "    </tr>\n",
       "  </thead>\n",
       "  <tbody>\n",
       "    <tr>\n",
       "      <th>fiber_no_security</th>\n",
       "      <td>2257</td>\n",
       "      <td>413</td>\n",
       "    </tr>\n",
       "    <tr>\n",
       "      <th>fiber_and_security</th>\n",
       "      <td>640</td>\n",
       "      <td>633</td>\n",
       "    </tr>\n",
       "  </tbody>\n",
       "</table>\n",
       "</div>"
      ],
      "text/plain": [
       "Churn_Yes           No_Churn  Churn\n",
       "row_0                              \n",
       "fiber_no_security       2257    413\n",
       "fiber_and_security       640    633"
      ]
     },
     "execution_count": 20,
     "metadata": {},
     "output_type": "execute_result"
    }
   ],
   "source": [
    "outcomes_2"
   ]
  },
  {
   "cell_type": "code",
   "execution_count": 21,
   "id": "bb94bcc8",
   "metadata": {},
   "outputs": [
    {
     "data": {
      "text/plain": [
       "0    2201\n",
       "1    1742\n",
       "Name: internet_service_Fiber optic, dtype: int64"
      ]
     },
     "execution_count": 21,
     "metadata": {},
     "output_type": "execute_result"
    }
   ],
   "source": [
    "train['internet_service_Fiber optic'].value_counts()"
   ]
  },
  {
   "cell_type": "code",
   "execution_count": 22,
   "id": "4126ebd7",
   "metadata": {},
   "outputs": [
    {
     "data": {
      "text/plain": [
       "0    2795\n",
       "1    1148\n",
       "Name: online_security_Yes, dtype: int64"
      ]
     },
     "execution_count": 22,
     "metadata": {},
     "output_type": "execute_result"
    }
   ],
   "source": [
    "train['online_security_Yes'].value_counts()"
   ]
  },
  {
   "cell_type": "code",
   "execution_count": 23,
   "id": "3d7ca698",
   "metadata": {},
   "outputs": [
    {
     "name": "stdout",
     "output_type": "stream",
     "text": [
      "Chi2: 517.26\n",
      "P-Value: 0.00\n",
      "alpha: 0.05\n",
      "\n",
      "P-Value is less than alpha:\n",
      "Reject HO (for Ha)that states there is no significant diffrence in churn dependening on if the customer has online security and has fiber optic.\n"
     ]
    }
   ],
   "source": [
    "chi2, p, degf, expected = stats.chi2_contingency(outcomes_2)\n",
    "\n",
    "print((\"Chi2: {:.2f}\" \\\n",
    "      \"\\nP-Value: {:.2f}\\nalpha: {:.2f}\\n\").format(chi2, p, alpha))\n",
    "\n",
    "if p < alpha:\n",
    "    print(\"P-Value is less than alpha:\")\n",
    "    print('Reject HO (for Ha)that states there is no significant diffrence in churn dependening on if the customer has online security and has fiber optic.')\n",
    "else:\n",
    "    print('Fail to reject HO. There is no significant diffrence in churn dependening on if the customer has online security and has fiber optic.')"
   ]
  },
  {
   "cell_type": "markdown",
   "id": "6ada342b",
   "metadata": {},
   "source": [
    "- There is a significant diffrence in churn dependening on if the customer has online security and has fiber optic."
   ]
  },
  {
   "cell_type": "markdown",
   "id": "887d224d",
   "metadata": {},
   "source": [
    "# Modeling"
   ]
  },
  {
   "cell_type": "code",
   "execution_count": 24,
   "id": "8b9cdd3d",
   "metadata": {},
   "outputs": [],
   "source": [
    "from sklearn.linear_model import LogisticRegression\n",
    "from sklearn.tree import DecisionTreeClassifier\n",
    "from sklearn.ensemble import RandomForestClassifier\n",
    "from sklearn.neighbors import KNeighborsClassifier"
   ]
  },
  {
   "cell_type": "code",
   "execution_count": 25,
   "id": "3cb4750c",
   "metadata": {},
   "outputs": [
    {
     "data": {
      "text/plain": [
       "0.735"
      ]
     },
     "execution_count": 25,
     "metadata": {},
     "output_type": "execute_result"
    }
   ],
   "source": [
    "# creating our baseline accuracy\n",
    "baseline_accuracy = (train.Churn_Yes== 0).mean()\n",
    "round(baseline_accuracy, 3)"
   ]
  },
  {
   "cell_type": "code",
   "execution_count": 26,
   "id": "c9b9c420",
   "metadata": {},
   "outputs": [],
   "source": [
    "# creating our split data\n",
    "X_validate, y_validate = wrangle.data_target_split(validate)\n",
    "X_test, y_test = wrangle.data_target_split(test)"
   ]
  },
  {
   "cell_type": "markdown",
   "id": "4db6fb70",
   "metadata": {},
   "source": [
    "### Logistic Regression"
   ]
  },
  {
   "cell_type": "code",
   "execution_count": 27,
   "id": "831309ea",
   "metadata": {},
   "outputs": [],
   "source": [
    "import warnings\n",
    "warnings.filterwarnings('ignore')\n",
    "\n",
    "# Creating our Logistic Regression\n",
    "logreg = LogisticRegression().fit(X_train, y_train)\n",
    "logreg_train_accuracy = logreg.score(X_train, y_train)"
   ]
  },
  {
   "cell_type": "code",
   "execution_count": 28,
   "id": "aaa3c7f3",
   "metadata": {},
   "outputs": [
    {
     "data": {
      "text/plain": [
       "Text(0.5, 1.0, 'Logistic Regression Confusion Matrix')"
      ]
     },
     "execution_count": 28,
     "metadata": {},
     "output_type": "execute_result"
    },
    {
     "data": {
      "image/png": "[encoded data removed]",
      "text/plain": [
       "<Figure size 640x480 with 2 Axes>"
      ]
     },
     "metadata": {},
     "output_type": "display_data"
    }
   ],
   "source": [
    "plot_confusion_matrix(logreg, X_train, y_train)\n",
    "plt.title(\"Logistic Regression Confusion Matrix\")"
   ]
  },
  {
   "cell_type": "markdown",
   "id": "5e14ef85",
   "metadata": {},
   "source": [
    "### Decision Tree"
   ]
  },
  {
   "cell_type": "code",
   "execution_count": 29,
   "id": "850a11f2",
   "metadata": {},
   "outputs": [],
   "source": [
    "# Creating our Decision Tree Model\n",
    "forest = DecisionTreeClassifier().fit(X_train, y_train)\n",
    "forest_train_accuracy = forest.score(X_train, y_train)"
   ]
  },
  {
   "cell_type": "code",
   "execution_count": 30,
   "id": "b4c71590",
   "metadata": {},
   "outputs": [
    {
     "data": {
      "text/plain": [
       "Text(0.5, 1.0, 'Decision Tree Confusion Matrix')"
      ]
     },
     "execution_count": 30,
     "metadata": {},
     "output_type": "execute_result"
    },
    {
     "data": {
      "image/png": "[encoded data removed]",
      "text/plain": [
       "<Figure size 640x480 with 2 Axes>"
      ]
     },
     "metadata": {},
     "output_type": "display_data"
    }
   ],
   "source": [
    "plot_confusion_matrix(forest, X_train, y_train)\n",
    "plt.title(\"Decision Tree Confusion Matrix\")"
   ]
  },
  {
   "cell_type": "markdown",
   "id": "0e8f6656",
   "metadata": {},
   "source": [
    "### Random Forest"
   ]
  },
  {
   "cell_type": "code",
   "execution_count": 31,
   "id": "e0a9f2c1",
   "metadata": {},
   "outputs": [],
   "source": [
    "# Creating our Random Forest Model\n",
    "rforest = RandomForestClassifier().fit(X_train, y_train)\n",
    "r_forest_train_accuracy = rforest.score(X_train, y_train)\n"
   ]
  },
  {
   "cell_type": "code",
   "execution_count": 32,
   "id": "5c0dece9",
   "metadata": {},
   "outputs": [
    {
     "data": {
      "text/plain": [
       "Text(0.5, 1.0, 'Random Forest Confusion Matrix')"
      ]
     },
     "execution_count": 32,
     "metadata": {},
     "output_type": "execute_result"
    },
    {
     "data": {
      "image/png": "[encoded data removed]",
      "text/plain": [
       "<Figure size 640x480 with 2 Axes>"
      ]
     },
     "metadata": {},
     "output_type": "display_data"
    }
   ],
   "source": [
    "plot_confusion_matrix(rforest, X_train, y_train)\n",
    "plt.title(\"Random Forest Confusion Matrix\")"
   ]
  },
  {
   "cell_type": "markdown",
   "id": "8dab9ae3",
   "metadata": {},
   "source": [
    "### K Nearest Neighbors"
   ]
  },
  {
   "cell_type": "code",
   "execution_count": 33,
   "id": "c9036ef3",
   "metadata": {},
   "outputs": [],
   "source": [
    "# Creating our KNN Model\n",
    "knn = KNeighborsClassifier().fit(X_train, y_train)\n",
    "knn_train_accuracy = knn.score(X_train, y_train)"
   ]
  },
  {
   "cell_type": "code",
   "execution_count": 34,
   "id": "2dfe8d87",
   "metadata": {},
   "outputs": [
    {
     "data": {
      "text/plain": [
       "Text(0.5, 1.0, 'KNN Confusion Matrix')"
      ]
     },
     "execution_count": 34,
     "metadata": {},
     "output_type": "execute_result"
    },
    {
     "data": {
      "image/png": "[encoded data removed]",
      "text/plain": [
       "<Figure size 640x480 with 2 Axes>"
      ]
     },
     "metadata": {},
     "output_type": "display_data"
    }
   ],
   "source": [
    "plot_confusion_matrix(knn, X_train, y_train)\n",
    "plt.title(\"KNN Confusion Matrix\")"
   ]
  },
  {
   "cell_type": "markdown",
   "id": "4d6977df",
   "metadata": {},
   "source": [
    "# Results"
   ]
  },
  {
   "cell_type": "markdown",
   "id": "89c94154",
   "metadata": {},
   "source": [
    "### Train"
   ]
  },
  {
   "cell_type": "code",
   "execution_count": 35,
   "id": "c147ed08",
   "metadata": {},
   "outputs": [
    {
     "name": "stdout",
     "output_type": "stream",
     "text": [
      "Baseline Accuracy --- 73.47%\n",
      "\n",
      "Logistic Regression Accuracy --- 81.00%\n",
      "Decision Tree Accuracy --- 99.87%\n",
      "Random Forest Accuracy --- 99.87%\n",
      "KNN Accuracy Accuracy --- 82.70%\n"
     ]
    }
   ],
   "source": [
    "print(f\"Baseline Accuracy --- {baseline_accuracy:.2%}\")\n",
    "print(\"\")\n",
    "print(f\"Logistic Regression Accuracy --- {logreg_train_accuracy:.2%}\")\n",
    "print(f\"Decision Tree Accuracy --- {forest_train_accuracy:.2%}\")\n",
    "print(f\"Random Forest Accuracy --- {r_forest_train_accuracy:.2%}\")\n",
    "print(f\"KNN Accuracy Accuracy --- {knn_train_accuracy:.2%}\")"
   ]
  },
  {
   "cell_type": "markdown",
   "id": "8ddf2b1a",
   "metadata": {},
   "source": [
    "#### Under our train dataset, our Decision Tree and Random Forest produced the best accuracy, but may be overfit. "
   ]
  },
  {
   "cell_type": "markdown",
   "id": "786ee855",
   "metadata": {},
   "source": [
    "### Validate"
   ]
  },
  {
   "cell_type": "code",
   "execution_count": 36,
   "id": "2ca90de2",
   "metadata": {},
   "outputs": [
    {
     "name": "stdout",
     "output_type": "stream",
     "text": [
      "Logistic Regression Accuracy --- 80.07%\n",
      "Decision Tree Accuracy --- 73.51%\n",
      "Random Forest Accuracy --- 79.66%\n",
      "KNN Accuracy Accuracy --- 76.58%\n"
     ]
    }
   ],
   "source": [
    "logreg_validate_accuracy = logreg.score(X_validate, y_validate)\n",
    "forest_validate_accuracy = forest.score(X_validate, y_validate)\n",
    "r_forest_validate_accuracy = rforest.score(X_validate, y_validate)\n",
    "knn_validate_accuracy = knn.score(X_validate, y_validate)\n",
    "\n",
    "print(f\"Logistic Regression Accuracy --- {logreg_validate_accuracy:.2%}\")\n",
    "print(f\"Decision Tree Accuracy --- {forest_validate_accuracy:.2%}\")\n",
    "print(f\"Random Forest Accuracy --- {r_forest_validate_accuracy:.2%}\")\n",
    "print(f\"KNN Accuracy Accuracy --- {knn_validate_accuracy:.2%}\")"
   ]
  },
  {
   "cell_type": "markdown",
   "id": "9d3fb931",
   "metadata": {},
   "source": [
    "#### When running our models on our Valitate dataset, we know that Decision Tree and Random forest were overfit. Our Logistic Regression Accuracy is our best model moving forward. "
   ]
  },
  {
   "cell_type": "markdown",
   "id": "08a0c24a",
   "metadata": {},
   "source": [
    "### Test"
   ]
  },
  {
   "cell_type": "code",
   "execution_count": 37,
   "id": "65b464e2",
   "metadata": {},
   "outputs": [
    {
     "name": "stdout",
     "output_type": "stream",
     "text": [
      "Logistic Regression Accuracy --- 79.84%\n"
     ]
    }
   ],
   "source": [
    "logreg_test_accuracy = logreg.score(X_test, y_test)\n",
    "print(f\"Logistic Regression Accuracy --- {logreg_test_accuracy:.2%}\")"
   ]
  },
  {
   "cell_type": "markdown",
   "id": "60b0df8d",
   "metadata": {},
   "source": [
    "#### On our Test dataset, our Logistic Regression Accuracy was 79.84%. Which is still above out Baseline Accuracy of 73.47%. "
   ]
  },
  {
   "cell_type": "markdown",
   "id": "4b9caf80",
   "metadata": {},
   "source": [
    "# Predicting Customer Churn"
   ]
  },
  {
   "cell_type": "code",
   "execution_count": 38,
   "id": "625d084b",
   "metadata": {},
   "outputs": [],
   "source": [
    "train, validate, test = wrangle.train_validate_test_split(df, target = 'Churn_Yes', seed=123)"
   ]
  },
  {
   "cell_type": "code",
   "execution_count": 39,
   "id": "6690cc57",
   "metadata": {},
   "outputs": [],
   "source": [
    "df_telco = pd.concat([train, validate, test], axis=0)"
   ]
  },
  {
   "cell_type": "code",
   "execution_count": 40,
   "id": "323443e8",
   "metadata": {},
   "outputs": [],
   "source": [
    "customer_ids = df_telco['customer_id']\n",
    "df_telco_data = df_telco.drop(columns=['customer_id', 'Churn_Yes'])\n",
    "df_telco_target = df_telco.Churn_Yes"
   ]
  },
  {
   "cell_type": "code",
   "execution_count": 41,
   "id": "9b5f6485",
   "metadata": {},
   "outputs": [
    {
     "name": "stdout",
     "output_type": "stream",
     "text": [
      "Logistic Regression Accuracy on Telco Data --- 80.55%\n"
     ]
    }
   ],
   "source": [
    "telco_accuracy = logreg.score(df_telco_data, df_telco_target)\n",
    "print(f\"Logistic Regression Accuracy on Telco Data --- {telco_accuracy:.2%}\")"
   ]
  },
  {
   "cell_type": "markdown",
   "id": "10b65f06",
   "metadata": {},
   "source": [
    "#### Using our Logistic Regression Accuracy on our entire Telco database, our accuracy comes back at 80.45%"
   ]
  },
  {
   "cell_type": "markdown",
   "id": "ef34db55",
   "metadata": {},
   "source": [
    "### Modeling Summary"
   ]
  },
  {
   "cell_type": "markdown",
   "id": "853fa122",
   "metadata": {},
   "source": [
    "- The Decision Tree and Random Forest models performed slightly better on train data but was worse on validate data. They were overfit."
   ]
  },
  {
   "cell_type": "markdown",
   "id": "bcb062a1",
   "metadata": {},
   "source": [
    "- A Logistic Regression model selected as the final model and had an accuracy of about 80% which is 7% better than the baseline accuracy."
   ]
  },
  {
   "cell_type": "markdown",
   "id": "0f8af9ac",
   "metadata": {},
   "source": [
    "### Turn into csv"
   ]
  },
  {
   "cell_type": "code",
   "execution_count": 42,
   "id": "448055e3",
   "metadata": {},
   "outputs": [],
   "source": [
    "# Turning our Predictions into a csv\n",
    "prediction_of_churn = pd.DataFrame({'churn_prediction' : logreg.predict(df_telco_data)})\n",
    "churn_probability = pd.DataFrame({'churn_probability': logreg.predict_proba(df_telco_data)[:,1]})\n",
    "data = [customer_ids, churn_probability, prediction_of_churn]\n",
    "customer_churn = pd.concat(data, axis=1)\n",
    "customer_churn.to_csv(r'Customer_Churn.csv', index = False)\n"
   ]
  },
  {
   "cell_type": "markdown",
   "id": "9e9b3601",
   "metadata": {},
   "source": [
    "# Conclusion"
   ]
  },
  {
   "cell_type": "markdown",
   "id": "360b1e8c",
   "metadata": {},
   "source": [
    "### Summary:"
   ]
  },
  {
   "cell_type": "markdown",
   "id": "da171e8d",
   "metadata": {},
   "source": [
    "- I found that there was some significant churn associated with the first six months of acquiring Telco services."
   ]
  },
  {
   "cell_type": "markdown",
   "id": "dea6386b",
   "metadata": {},
   "source": [
    "- There is significant proof that a good portion of Telco's chrun is coming from the fiber optic customers. We also know that indivudals with fiber optic and no internet security are churning at higher rates."
   ]
  },
  {
   "cell_type": "markdown",
   "id": "937166d8",
   "metadata": {},
   "source": [
    "- With our Logestic Regression Model, we were able to validate at an accuracy of 80.45% while the baseline accuracy is 73.45%. This model is fit well compared to the other models."
   ]
  },
  {
   "cell_type": "markdown",
   "id": "ffcd7b77",
   "metadata": {},
   "source": [
    "### Recomendation: "
   ]
  },
  {
   "cell_type": "markdown",
   "id": "295eefdc",
   "metadata": {},
   "source": [
    "- In order to address the churn of fiber optic customers that have no security, I would propose a bundle deal that provideds security along with the fiber optic services. Infering from the data, I can estimate that fiber optic customers are churning because they do not want to pay for extra security and/or are not aware of the service."
   ]
  },
  {
   "cell_type": "markdown",
   "id": "0e6558a5",
   "metadata": {},
   "source": [
    "### Next Steps\n",
    "\n",
    "- I would take a look into tenure of the customers and indetify within the first six months what type of customers are chruning. I would have also liked to make more features from the data which could help boost my accuracy when fiting the data to models."
   ]
  }
 ],
 "metadata": {
  "kernelspec": {
   "display_name": "Python 3 (ipykernel)",
   "language": "python",
   "name": "python3"
  },
  "language_info": {
   "codemirror_mode": {
    "name": "ipython",
    "version": 3
   },
   "file_extension": ".py",
   "mimetype": "text/x-python",
   "name": "python",
   "nbconvert_exporter": "python",
   "pygments_lexer": "ipython3",
   "version": "3.9.13"
  }
 },
 "nbformat": 4,
 "nbformat_minor": 5
}
